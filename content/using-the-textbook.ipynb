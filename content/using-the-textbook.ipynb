{
 "cells": [
  {
   "cell_type": "markdown",
   "metadata": {},
   "source": [
    "# テキストを自分のニーズに合わせる"
   ]
  },
  {
   "cell_type": "markdown",
   "metadata": {},
   "source": [
    "\n",
    "このテキストブックは独立したコースとしても使用できますが、従来の大学のコースに付随するように設計されています。Qiskitを使って量子アルゴリズムやハードウェアの実験を行う方法を紹介しており、理解を深めることができます：\n",
    "\n",
    "<img\n",
    "  src=\"images/qiskit_textbook_skills.png\"\n",
    "  alt=\"このテキストブックは大学のコースの教科書として使用できます。\"\n",
    "  style=\"max-width: 600px; margin-bottom: 3em; margin-top: 2em; margin-left: 35px;\"\n",
    "  align=\"center\"\n",
    "/>\n",
    "\n",
    "\n",
    "この教科書の目標は、以下のエリアのスキルを開発することです。\n",
    "\n",
    "1. 量子アルゴリズムの背後にある数学\n",
    "2. 今日の非フォールトトレラントな量子デバイスの詳細\n",
    "3. IBMのクラウド型量子システムに量子アルゴリズムを実装するためのQiskitでのコーディング\n",
    "\n",
    "このテキストブックは、この分野の広範な調査を試みるものではありませんが、できる限り自己完結することを目指します。\n",
    "\n",
    "# コースマップ\n",
    "\n",
    "Qiskit textbookは幅広い分野をカバーしており、1つのコースですべてをカバーできるわけではありません。以下のガイドを利用して、あなたのゴールに合わせて教材を調整することができます。これはあくまでもテキストブックの使用方法の提案です。"
   ]
  },
  {
   "cell_type": "raw",
   "metadata": {},
   "source": [
    "{% include coursemap_img.html %}"
   ]
  }
 ],
 "metadata": {
  "kernelspec": {
   "display_name": "Python 3",
   "language": "python",
   "name": "python3"
  },
  "language_info": {
   "codemirror_mode": {
    "name": "ipython",
    "version": 3
   },
   "file_extension": ".py",
   "mimetype": "text/x-python",
   "name": "python",
   "nbconvert_exporter": "python",
   "pygments_lexer": "ipython3",
   "version": "3.7.4"
  }
 },
 "nbformat": 4,
 "nbformat_minor": 4
}
