{
 "cells": [
  {
   "cell_type": "markdown",
   "metadata": {},
   "source": [
    "# 量子ゲート"
   ]
  },
  {
   "cell_type": "code",
   "execution_count": 1,
   "metadata": {},
   "outputs": [],
   "source": [
    "from qiskit import *"
   ]
  },
  {
   "cell_type": "markdown",
   "metadata": {},
   "source": [
    "ある入力状態に対して操作を行うためには、量子コンピューティングの基本演算を適用する必要があります。これらの基本演算は量子ゲートとして知られています。ここでは、量子コンピューティングにおける最も基本的なゲートについていくつか紹介します。これから見ていくほとんどのゲートは1つの量子ビットに対してのみ影響を及ぼします。このことは、これらのゲートによる作用はブロッホ球上の表現として解釈できることを意味します。\n",
    "\n",
    "\n",
    "### パウリ演算子\n",
    "\n",
    "最も単純な量子ゲートはパウリ演算子$X$、$Y$、$Z$です。 パウリ演算子の作用は、ブロッホ球におけるそれぞれx軸、y軸、z軸周りの半回転を行います。したがって、これらのゲートによる作用は古典的なNOTゲートまたはビット反転と同様の効果をもたらします。特に、状態$|0\\rangle$と$|1\\rangle$に対する$X$ゲートによる作用は以下のとおりです。\n",
    "\n",
    "$$\n",
    "X |0\\rangle = |1\\rangle,\\\\\\\\ X |1\\rangle = |0\\rangle.\n",
    "$$\n",
    "\n",
    "$Z$ゲートは$|+\\rangle$ and $|-\\rangle$の状態に対して同様に作用します。\n",
    "\n",
    "$$\n",
    "Z |+\\rangle = |-\\rangle, \\\\\\\\ Z |-\\rangle = |+\\rangle.\n",
    "$$\n",
    "\n",
    "これらのゲートはQiskitでは以下のとおり実装されています。（ここでは回路の名称はqcとします。）\n",
    "\n",
    "```python\n",
    "qc.x(0) # x on qubit 0\n",
    "qc.y(0) # y on qubit 0\n",
    "qc.z(0) # z on qubit 0\n",
    "```\n",
    "\n",
    "これらのゲートの行列表現については既に前章までに記述したとおりです。\n",
    "\n",
    "$$\n",
    "X= \\begin{pmatrix} 0&1 \\\\\\\\ 1&0 \\end{pmatrix}\\\\\\\\\n",
    "Y= \\begin{pmatrix} 0&-i \\\\\\\\ i&0 \\end{pmatrix}\\\\\\\\\n",
    "Z= \\begin{pmatrix} 1&0 \\\\\\\\ 0&-1 \\end{pmatrix}\n",
    "$$\n",
    "\n",
    "前章においてはこれらの行列は観測に関する計算のために活用しました。ところが、これらの行列はユニタリー行列であることから可逆量子演算として定義できるため、ゲートとして新たに解釈をすることができます。\n",
    "\n",
    "ゲートについての表記を、行列表現を指す場合とQiskit内の記述を指す場合とで$X$、$Y$、$Z$、と`x`、`y`、`z`、としたことに注意してください。通常は、$X$、$Y$、$Z$は文章や数式の中で、`x`、`y`、`z`はQiskitコード内で、それぞれゲートを指す場合に使用します。"
   ]
  },
  {
   "cell_type": "markdown",
   "metadata": {},
   "source": [
    "### アダマールゲートとSゲート\n",
    "\n",
    "アダマールゲートは、これまでに既に使用しました。これは、x観測を実行するための重要な要素の一つです。\n",
    "\n",
    "```python\n",
    "measure_x = QuantumCircuit(1,1)\n",
    "measure_x.h(0);\n",
    "measure_x.measure(0,0);\n",
    "```\n",
    "\n",
    "パウリゲートと同様に、アダマールゲートはブロッホ球上の半回転です。パウリゲートとの違いは、x軸とz軸の中間に位置する軸の周りに回転する点です。これは、z軸に沿った向きの量子状態をx軸に沿った向きに回転する、またはその逆、の作用になります。\n",
    "\n",
    "$$\n",
    "H |0\\rangle = |+\\rangle, \\, \\, \\, \\, H |1\\rangle = |-\\rangle,\\\\\\\\\n",
    "H |+\\rangle = |0\\rangle, \\, \\, \\, \\, H |-\\rangle = |1\\rangle.\n",
    "$$\n",
    "\n",
    "この作用はx観測をするために必須です。なぜなら、量子コンピューターのハードウェアは一般的にはz観測のみ直接的に実行できることが多いからです。x基底の情報をz基底の情報に移動することでx軸に関する間接的な観測を実現できます。\n",
    "\n",
    "また、アダマールゲートが持つ$H |0\\rangle = |+\\rangle $の性質は、重ね合わせ状態を生成するための主な手段でもあります。アダマールゲートの行列表現は以下の通りです。\n",
    "\n",
    "$$\n",
    "H = \\frac{1}{\\sqrt{2}} \\begin{pmatrix} 1&1 \\\\\\\\ 1&-1 \\end{pmatrix}.\n",
    "$$\n",
    "\n",
    "$S$ゲートと$S^\\dagger$ゲートも量子計算において同様の役割を担います。\n",
    "\n",
    "```python\n",
    "qc.s(0) # s gate on qubit 0\n",
    "qc.sdg(0) # s† on qubit 0\n",
    "```\n",
    "\n",
    "これらのゲートは、ブロッホ球上のz軸周り1/4回転であり、$Z$ゲートの平方根でもあります。\n",
    "\n",
    "$$\n",
    "S = \\begin{pmatrix} 1&0 \\\\\\\\ 0&i \\end{pmatrix}, \\, \\, \\, \\, S^\\dagger = \\begin{pmatrix} 1&0 \\\\\\\\ 0&-i \\end{pmatrix}.\n",
    "$$\n",
    "\n",
    "これらのゲートはx基底とy基底の状態を交換します。\n",
    "\n",
    "$$\n",
    "S |+\\rangle = |\\circlearrowright\\rangle, \\, \\, \\, \\, S |-\\rangle = |\\circlearrowleft\\rangle,\\\\\\\\\n",
    "S^\\dagger |\\circlearrowright\\rangle = |+\\rangle, \\, \\, \\, \\, S^\\dagger |\\circlearrowleft\\rangle = |-\\rangle.\n",
    "$$\n",
    "\n",
    "したがって、これらのゲートはy観測をするための一部として使用されます。\n",
    "\n",
    "```python\n",
    "measure_y = QuantumCircuit(1,1)\n",
    "measure_y.sdg(0)\n",
    "measure_y.h(0)\n",
    "measure_y.measure(0,0);\n",
    "```\n",
    "\n",
    "$H$ゲート、$S$ゲート、$S^\\dagger$ゲートはパウリゲートと共に単一の量子ビットに対する”クリフォード群”と呼ばれるグループを構成します。クリフォード群についてはこの章でこの後さらに議論します。これらのゲートは重ね合わせ状態の生成や操作においてだけでなく、異なる種類の観測においても非常に便利です。しかしながら、量子ビットのすべての可能性を引き出すためには後述するゲートのセットが必要です。\n"
   ]
  },
  {
   "cell_type": "markdown",
   "metadata": {},
   "source": [
    "### その他の単一量子ビットゲート\n",
    "\n",
    "これまで、x軸、y軸、z軸周りの特定角度の回転を意味する$X$、$Y$、$Z$ゲートについて見てきました。より一般的には、この概念を任意の角度$\\theta$の回転に拡張することができます。これにより、$R_x(\\theta)$、$R_y(\\theta)$、$R_z(\\theta)$ゲートが与えられます。角度はラジアンで表現され、したがってパウリゲートは$\\theta=\\pi$に対応します。パウリゲートの平方根は、この角度の半分$\\theta=\\pm \\pi/2$、となり、それ以降も同様です。\n",
    "\n",
    "Qasmではこれらの回転は”rx”、”ry”、”rz”として以下のように実装できます。\n",
    "\n",
    "```python\n",
    "qc.rx(theta,0) # rx rotation on qubit 0\n",
    "qc.ry(theta,0) # ry rotation on qubit 0\n",
    "qc.rz(theta,0) # rz rotation on qubit 0\n",
    "```\n",
    "\n",
    "$R_z(\\theta)$のうち、$\\theta=\\pm \\pi/4$の2つには名称がついています。これらは$S$ゲートの平方根であり、$T$ゲートと$T^\\dagger$ゲートとして知られています。\n",
    "\n",
    "```python\n",
    "qc.t(0) # t gate on qubit 0\n",
    "qc.tdg(0) # t† on qubit 1\n",
    "```\n",
    "\n",
    "$T$ゲートと$T^\\dagger$ゲートの行列表現は以下の通りです。\n",
    "\n",
    "$$\n",
    "T = \\begin{pmatrix} 1&0 \\\\\\\\ 0&e^{i\\pi/4}\\end{pmatrix}, \\, \\, \\, \\, T^\\dagger = \\begin{pmatrix} 1&0 \\\\\\\\ 0&e^{-i\\pi/4} \\end{pmatrix}.\n",
    "$$\n",
    "\n",
    "\n",
    "全ての単一量子ビット演算は、実際のIBM量子コンピューターのハードウェアで実行する前に、$U_1$、$U_2$、$U_3$として知られるゲートに分解されます。この理由により、これらのゲートはよく物理ゲートと呼ばれます。もう少し詳しく見てみましょう。最も一般的なものは以下の通りです。\n",
    "\n",
    "$$\n",
    "U_3(\\theta,\\phi,\\lambda) = \\begin{pmatrix} \\cos(\\theta/2) & -e^{i\\lambda}\\sin(\\theta/2) \\\\\\\\ e^{i\\phi}\\sin(\\theta/2) \n",
    "& e^{i\\lambda+i\\phi}\\cos(\\theta/2) \\end{pmatrix}.\n",
    "$$\n",
    "\n",
    "この行列は初期状態が$|0\\rangle$の量子ビットを任意の重ね合わせと相対位相に回転する作用を持ちます。\n",
    "\n",
    "$$\n",
    "U_3|0\\rangle = \\cos(\\theta/2)|0\\rangle + \\sin(\\theta/2)e^{i\\phi}|1\\rangle.\n",
    "$$\n",
    "\n",
    "$U_1$ゲートは位相ゲートとして知られ、$R_z(\\lambda)$と本質的に同じです。$U_1$ゲートと$U_3$ゲートとの関係の行列表現は以下の通りです。\n",
    "\n",
    "$$\n",
    "U_1(\\lambda) = U_3(0,0,\\lambda) = \\begin{pmatrix} 1 & 0 \\\\\\\\ 0 & e^{i\\lambda} \\end{pmatrix}.\n",
    "$$\n",
    "\n",
    "IBM Qハードウェア上では、このゲートはframe changeとして実装されていて、瞬時に処理されます。\n",
    "\n",
    "二つ目のゲートは$U_2$ゲートで、行列表現は以下の通りです。\n",
    "\n",
    "$$\n",
    "U_2(\\phi,\\lambda) = U_3(\\pi/2,\\phi,\\lambda) = \\frac{1}{\\sqrt{2}}\\begin{pmatrix} 1 & -e^{i\\lambda} \\\\\\\\ e^{i\\phi} & e^{i\\lambda+i\\phi} \\end{pmatrix}.\n",
    "$$\n",
    "\n",
    "アダマールゲート$H= U_2(0,\\pi)$はこのゲートを使用して実行されます。IBM Qハードウェアでは、このゲートはpre-、post-frame changeと$X_{\\pi/2}$パルスにより実装されています。"
   ]
  },
  {
   "cell_type": "markdown",
   "metadata": {},
   "source": [
    "### 複数量子ビットゲート\n",
    "\n",
    "古典的アルゴリズムを打ち負かすような量子アルゴリズムを組むためには、隔離された量子ビットでは不足しています。量子ビット同士を相互作用させる方法が必要です。このことは複数量子ビットゲートにより実現できます。\n",
    "\n",
    "最も有名な複数量子ビットゲートは、2量子ビットCNOTゲートと3量子ビットトフォリゲートです。これらについて”The atoms of computation”の章で既に紹介しました。これらのゲートは本質的にそれぞれ古典的XORと古典的ANDゲートの逆バージョンです。\n",
    "\n",
    "```python\n",
    "qc.cx(0,1) # CNOT controlled on qubit 0 with qubit 1 as target\n",
    "qc.ccx(0,1,2) # Toffoli controlled on qubits 0 and 1 with qubit 2 as target\n",
    "```\n",
    "QisikitにおいてはCNOTは”cx”として記述されることに注意ください。\n",
    "\n",
    "また、CNOTは、制御量子ビットが$|1\\rangle$の状態である場合に操作対象の量子ビットに対してXゲートを作用させ、制御量子ビットが$|0\\rangle$の状態である場合には何もしない、と解釈することができます。この解釈を念頭におくと、制御量子ビットの状態が$|0\\rangle$と$|1\\rangle$であるときに操作対象量子ビットに対して$Y$ゲートや$Z$ゲートを作用させるようなゲートを同様に定義することができます。\n",
    "\n",
    "```python\n",
    "qc.cy(0,1) # controlled-Y, controlled on qubit 0 with qubit 1 as target\n",
    "qc.cz(0,1) # controlled-Z, controlled on qubit 0 with qubit 1 as target\n",
    "```\n",
    "\n",
    "制御量子ビットが2つある点以外は、トフォリゲートも同様の考え方で解釈できます。両方の制御量子ビットが$|1\\rangle$の状態の場合のみ、操作対象量子ビットに対して$X$ゲートが適用されます。"
   ]
  },
  {
   "cell_type": "markdown",
   "metadata": {},
   "source": [
    "### 複合ゲート\n",
    "\n",
    "ゲートを結合することで新しいゲートを作ることができます。新しいゲートの行列表現を見たい場合は、Qiskitの'unitary simulator'を使用可能です。\n",
    "\n",
    "簡単なものについて例を見てみましょう。2つの量子ビットがあり、1つには”x”ゲートが、もう1つには”z”ゲートが適用されているとします。テンソル積を使用することで以下の結果が期待できます。\n",
    "\n",
    "$$\n",
    "Z \\otimes X=  \\begin{pmatrix} 1&0 \\\\\\\\ 0&-1 \\end{pmatrix} \\otimes \\begin{pmatrix} 0&1 \\\\\\\\ 1&0 \\end{pmatrix} = \\begin{pmatrix} 0&1&0&0 \\\\\\\\ 1&0&0&0\\\\\\\\0&0&0&-1\\\\\\\\0&0&-1&0 \\end{pmatrix}.\n",
    "$$\n",
    "\n",
    "このツールを使って回路を解析すると、全く同じ結果が得られることが確認できます。"
   ]
  },
  {
   "cell_type": "code",
   "execution_count": 2,
   "metadata": {},
   "outputs": [
    {
     "data": {
      "text/markdown": [
       "\\begin{pmatrix}0j&(1+0j)&0j&0j\\\\(1+0j)&0j&0j&0j\\\\0j&0j&0j&(-1+0j)\\\\0j&0j&(-1+0j)&0j\\end{pmatrix}"
      ],
      "text/plain": [
       "<IPython.core.display.Markdown object>"
      ]
     },
     "metadata": {},
     "output_type": "display_data"
    }
   ],
   "source": [
    "# set up circuit (no measurements required)\n",
    "qc = QuantumCircuit(2)\n",
    "qc.x(0) # qubits numbered from the right, so qubit 0 is the qubit on the right\n",
    "qc.z(1) # and qubit 1 is on the left\n",
    "\n",
    "# set up simulator that returns unitary matrix\n",
    "backend = Aer.get_backend('unitary_simulator')\n",
    "\n",
    "# run the circuit to get the matrix\n",
    "gate = execute(qc,backend).result().get_unitary()\n",
    "\n",
    "# now we use some fanciness to display it in latex\n",
    "from IPython.display import display, Markdown, Latex\n",
    "gate_latex = '\\\\begin{pmatrix}'\n",
    "for line in gate:\n",
    "    for element in line:\n",
    "        gate_latex += str(element) + '&'\n",
    "    gate_latex  = gate_latex[0:-1]\n",
    "    gate_latex +=  '\\\\\\\\'\n",
    "gate_latex  = gate_latex[0:-2]\n",
    "gate_latex += '\\end{pmatrix}'\n",
    "display(Markdown(gate_latex))"
   ]
  },
  {
   "cell_type": "code",
   "execution_count": 3,
   "metadata": {},
   "outputs": [
    {
     "data": {
      "text/plain": [
       "{'qiskit-terra': '0.14.2',\n",
       " 'qiskit-aer': '0.5.2',\n",
       " 'qiskit-ignis': '0.3.3',\n",
       " 'qiskit-ibmq-provider': '0.7.2',\n",
       " 'qiskit-aqua': '0.7.3',\n",
       " 'qiskit': '0.19.6'}"
      ]
     },
     "execution_count": 3,
     "metadata": {},
     "output_type": "execute_result"
    }
   ],
   "source": [
    "import qiskit\n",
    "qiskit.__qiskit_version__"
   ]
  }
 ],
 "metadata": {
  "kernelspec": {
   "display_name": "Python 3",
   "language": "python",
   "name": "python3"
  },
  "language_info": {
   "codemirror_mode": {
    "name": "ipython",
    "version": 3
   },
   "file_extension": ".py",
   "mimetype": "text/x-python",
   "name": "python",
   "nbconvert_exporter": "python",
   "pygments_lexer": "ipython3",
   "version": "3.7.6"
  }
 },
 "nbformat": 4,
 "nbformat_minor": 2
}
