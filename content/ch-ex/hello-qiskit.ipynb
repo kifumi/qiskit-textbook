{
 "cells": [
  {
   "cell_type": "markdown",
   "metadata": {
    "tags": [
     "remove_cell"
    ]
   },
   "source": [
    "# こんにちはqiskit"
   ]
  },
  {
   "cell_type": "markdown",
   "metadata": {},
   "source": [
    "単純なパズルは量子ビットと量子ゲートから始めましょう。\n",
    "\n",
    "# レベル 1:ビットから始めましょう。\n",
    "\n",
    "すべてのテキストブックと同様に、このテキストはJupyter notebookです。\n",
    "しかしながら、このほとんどのテキストと異なり、実際にこれを実行してみないといけないでしょう。\n",
    "過去にJupyter notebookを使ったことのない人でも心配はいりません。\n",
    "それはあなたが以下のようなたくさんのグレーの枠の中にあるソースコードをわかることを意味します。\n",
    "これらがセルとして知られています。"
   ]
  },
  {
   "cell_type": "code",
   "execution_count": 1,
   "metadata": {},
   "outputs": [
    {
     "name": "stdout",
     "output_type": "stream",
     "text": [
      "Hello! I'm a code cell\n"
     ]
    }
   ],
   "source": [
    "print(\"Hello! I'm a code cell\")"
   ]
  },
  {
   "cell_type": "markdown",
   "metadata": {},
   "source": [
    "セルを含んだコードを実行する方法は実行する機器に依存します。そして、あなたが使った方法をインプットします。\n",
    "ほとんどの場合、あなたはセルをクリックし、**Shift-Enterキー**を押すでしょう。しかしながら、もしあなたがQiskit textbookでこれを実行していれば、あなたは単にそばにある'Run'ボタンをクリックするだけでしょう。\n",
    "\n",
    "以下のセル・コードために、これをすることによって始めるでしょう。\n",
    "これは数秒実行するのに時間がかかります。"
   ]
  },
  {
   "cell_type": "markdown",
   "metadata": {},
   "source": [
    "このnotebookのセルの残りは問題を解くためのパズルのセットアップのコードを含みます。\n",
    "そのパズルの正解を知るために、そのセルをただ実行しましょう。\n",
    "パズルを新たに始めるために、それにただ戻りましょう。"
   ]
  },
  {
   "cell_type": "code",
   "execution_count": 2,
   "metadata": {},
   "outputs": [
    {
     "name": "stdout",
     "output_type": "stream",
     "text": [
      "Set up started...\n",
      "Set up complete!\n"
     ]
    }
   ],
   "source": [
    "print('Set up started...')\n",
    "from qiskit_textbook.games import hello_quantum\n",
    "print('Set up complete!')"
   ]
  },
  {
   "cell_type": "markdown",
   "metadata": {},
   "source": [
    "## Puzzle 1\n",
    "\n",
    "### イントロダクション・導入\n",
    "量子コンピューターは*量子ビット*に基づいています。：ビットは量子力学のルールに従います。\n",
    "しかし、1ビットとは正確に何でしょうか？そして、どのようにそれらはコンピューターの中で使われているでしょうか？\n",
    "\n",
    "ビットの定義の特徴は２つの結果の側面である。\n",
    "これらは１と０またはオンとオフ、真と偽と言われているでしょう。その大事なポイントはそれらの２つがあることです。\n",
    "ビットに精通していれば、１つのものを行ってみましょう。ビットでできる一番簡単なことは、１つのものを放っておく以外では、ビットの値を反転させることです。私たちはこの単純な演算子に変わった名前を与えます。それはNOTゲートと呼ばれています。\n",
    "\n",
    "以下で実行してみましょう。\n",
    "\n",
    "### 練習問題\n",
    "*  `NOT`ゲートを3回使いましょう。"
   ]
  },
  {
   "cell_type": "code",
   "execution_count": 3,
   "metadata": {
    "scrolled": false
   },
   "outputs": [
    {
     "data": {
      "application/vnd.jupyter.widget-view+json": {
       "model_id": "a6ae0783664b464a92e28319ec4e5a24",
       "version_major": 2,
       "version_minor": 0
      },
      "text/plain": [
       "Image(value=b'\\x89PNG\\r\\n\\x1a\\n\\x00\\x00\\x00\\rIHDR\\x00\\x00\\x01\\xb0\\x00\\x00\\x01\\xb0\\x08\\x06\\x00\\x00\\x00\\xc8N0*\\x…"
      ]
     },
     "metadata": {},
     "output_type": "display_data"
    },
    {
     "data": {
      "application/vnd.jupyter.widget-view+json": {
       "model_id": "5058cc15fc524e11b1e015bd688ae3e9",
       "version_major": 2,
       "version_minor": 0
      },
      "text/plain": [
       "VBox(children=(ToggleButtons(options=('Choose gate', 'NOT'), value='Choose gate'), ToggleButtons(options=('',)…"
      ]
     },
     "metadata": {},
     "output_type": "display_data"
    }
   ],
   "source": [
    "initialize = []\n",
    "success_condition = {}\n",
    "allowed_gates = {'0': {'NOT': 3}, '1': {}, 'both': {}}\n",
    "vi = [[1], False, False]\n",
    "qubit_names = {'0':'the only bit', '1':None}\n",
    "puzzle = hello_quantum.run_game(initialize, success_condition, allowed_gates, vi, qubit_names)"
   ]
  },
  {
   "cell_type": "markdown",
   "metadata": {},
   "source": [
    "### アウトロ・終結\n",
    "ここでは、オン（白）かオフ（黒）のどちらかの円を使ってビットを視覚化しました。　\n",
    "NOTゲートの効果がオンかオフであることがわかり、それが２つのビットの状態で反転しています。"
   ]
  },
  {
   "cell_type": "markdown",
   "metadata": {},
   "source": [
    "## パズル 2\n",
    "\n",
    "### イントロダクション・導入\n",
    "1ビットよりも2ビットを動かすことはより興味深いことです。ここで、ほかのものを動かしてみましょう。\n",
    "それは以前よりも同じものに見えるでしょう。しかし、それは異なったビットであるから、違った場所になるでしょう。\n",
    "\n",
    "### 練習問題\n",
    "*  他のビットを動かしてみましょう。"
   ]
  },
  {
   "cell_type": "code",
   "execution_count": 4,
   "metadata": {},
   "outputs": [
    {
     "data": {
      "application/vnd.jupyter.widget-view+json": {
       "model_id": "4914fa65adf742a58eadd077e518d56f",
       "version_major": 2,
       "version_minor": 0
      },
      "text/plain": [
       "Image(value=b'\\x89PNG\\r\\n\\x1a\\n\\x00\\x00\\x00\\rIHDR\\x00\\x00\\x01\\xb0\\x00\\x00\\x01\\xb0\\x08\\x06\\x00\\x00\\x00\\xc8N0*\\x…"
      ]
     },
     "metadata": {},
     "output_type": "display_data"
    },
    {
     "data": {
      "application/vnd.jupyter.widget-view+json": {
       "model_id": "71f13afccd4642448e3fb643b2ce4f49",
       "version_major": 2,
       "version_minor": 0
      },
      "text/plain": [
       "VBox(children=(ToggleButtons(options=('Choose gate', 'NOT'), value='Choose gate'), ToggleButtons(options=('',)…"
      ]
     },
     "metadata": {},
     "output_type": "display_data"
    }
   ],
   "source": [
    "initialize = []\n",
    "success_condition = {}\n",
    "allowed_gates = {'0': {}, '1': {'NOT': 0}, 'both': {}}\n",
    "vi = [[], False, False]\n",
    "qubit_names = {'0':'the bit on the left', '1':'the bit on the right'}\n",
    "puzzle = hello_quantum.run_game(initialize, success_condition, allowed_gates, vi, qubit_names)"
   ]
  },
  {
   "cell_type": "markdown",
   "metadata": {},
   "source": [
    "### アウトロ・終結\n",
    "`NOT`ゲートをマスターしたでしょう。：これはコンピューティングのブロックを構築する最も基本的なものです。"
   ]
  },
  {
   "cell_type": "markdown",
   "metadata": {},
   "source": [
    "### パズル 3\n",
    "\n",
    "### イントロダクション・導入\n",
    "用語「ゲート」は、複数の量子ビットを扱うことができるためのシンプルな道具を記述するために使います。\n",
    "`NOT`ゲートは最もシンプルな例です。\n",
    "しかし、ビットで興味深いことを行うには、ビットを単にオンやオフする必要があります。\n",
    "そのより研ぎ澄まされたゲートは`CNOT`ゲートと呼ばれ、「controlled-NOT」の略です。これはビットのペアで使われています。\n",
    "私たちは制御するという観点でビットの１つを選びます。\n",
    "これはCNOTゲートが、実際に何でもするかどうかを決定するようになります。その他のビットはターゲットです。\n",
    "簡単に言えば、`CNOT`はターゲットのビットに`NOT`を行いますが、制御ビットがオンの場合に限ります。\n",
    "最も良い方法はそれを実行しながら理解することです。\n",
    "\n",
    "### 練習問題\n",
    "* 右側のビットをオンにして、CNOTゲートを使ってみましょう。\n",
    "* **留意点**: ビットを選択するように言われたときに、どちらが対象になるビットかを選択していることになります。"
   ]
  },
  {
   "cell_type": "code",
   "execution_count": 5,
   "metadata": {},
   "outputs": [
    {
     "data": {
      "application/vnd.jupyter.widget-view+json": {
       "model_id": "50300c58c7fb49f7af0431be2c8a1cfe",
       "version_major": 2,
       "version_minor": 0
      },
      "text/plain": [
       "Image(value=b'\\x89PNG\\r\\n\\x1a\\n\\x00\\x00\\x00\\rIHDR\\x00\\x00\\x01\\xb0\\x00\\x00\\x01\\xb0\\x08\\x06\\x00\\x00\\x00\\xc8N0*\\x…"
      ]
     },
     "metadata": {},
     "output_type": "display_data"
    },
    {
     "data": {
      "application/vnd.jupyter.widget-view+json": {
       "model_id": "5ca913fdac8d45d28617bad5ef7fc54a",
       "version_major": 2,
       "version_minor": 0
      },
      "text/plain": [
       "VBox(children=(ToggleButtons(options=('Choose gate', 'CNOT'), value='Choose gate'), ToggleButtons(options=('',…"
      ]
     },
     "metadata": {},
     "output_type": "display_data"
    }
   ],
   "source": [
    "initialize = [['x', '0']]\n",
    "success_condition = {'IZ': -1.0}\n",
    "allowed_gates = {'0': {'CNOT': 0}, '1': {'CNOT': 0}, 'both': {}}\n",
    "vi = [[], False, False]\n",
    "qubit_names = {'0':'the bit on the left', '1':'the bit on the right'}\n",
    "puzzle = hello_quantum.run_game(initialize, success_condition, allowed_gates, vi, qubit_names)"
   ]
  },
  {
   "cell_type": "markdown",
   "metadata": {},
   "source": [
    "## パズル 4\n",
    "\n",
    "### イントロダクション・導入\n",
    "私たちが実行するどのプログラムもたくさんのゲートと量子ビットを構成されているでしょう。そのための一歩として、いくつかの`CNOT`ゲートを使う必要があるものを試してみましょう。\n",
    "\n",
    "### 練習問題\n",
    "* 左側のビットをオフにし、右側のビットをオンにするためにいくつかの`CNOT`ゲートを使ってみましょう。 "
   ]
  },
  {
   "cell_type": "code",
   "execution_count": 6,
   "metadata": {},
   "outputs": [
    {
     "data": {
      "application/vnd.jupyter.widget-view+json": {
       "model_id": "6745fcbdad394bc581759c144fefd409",
       "version_major": 2,
       "version_minor": 0
      },
      "text/plain": [
       "Image(value=b'\\x89PNG\\r\\n\\x1a\\n\\x00\\x00\\x00\\rIHDR\\x00\\x00\\x01\\xb0\\x00\\x00\\x01\\xb0\\x08\\x06\\x00\\x00\\x00\\xc8N0*\\x…"
      ]
     },
     "metadata": {},
     "output_type": "display_data"
    },
    {
     "data": {
      "application/vnd.jupyter.widget-view+json": {
       "model_id": "33b5f85dda7a467da55ca2487b969ec2",
       "version_major": 2,
       "version_minor": 0
      },
      "text/plain": [
       "VBox(children=(ToggleButtons(options=('Choose gate', 'CNOT'), value='Choose gate'), ToggleButtons(options=('',…"
      ]
     },
     "metadata": {},
     "output_type": "display_data"
    }
   ],
   "source": [
    "initialize = [['x', '0']]\n",
    "success_condition = {'ZI': 1.0, 'IZ': -1.0}\n",
    "allowed_gates = {'0': {'CNOT': 0}, '1': {'CNOT': 0}, 'both': {}}\n",
    "vi = [[], False, False]\n",
    "qubit_names = {'0':'the bit on the left', '1':'the bit on the right'}\n",
    "puzzle = hello_quantum.run_game(initialize, success_condition, allowed_gates, vi, qubit_names)"
   ]
  },
  {
   "cell_type": "markdown",
   "metadata": {},
   "source": [
    "### アウトロ・終結\n",
    "素晴らしい！\n",
    "これらの種類の操作はすべてのコンピューティングのまとめです。もし多くのビットと制御された`CNOT`ゲートを持っていれば、\n",
    "自動で運転する車からテトリスまであらゆるものが構築することができるでしょう。"
   ]
  },
  {
   "cell_type": "markdown",
   "metadata": {},
   "source": [
    "## パズル 5\n",
    "\n",
    "### イントロダクション・導入\n",
    "たくさんの問題のボードで空のスペースがたくさんあることに、おそらく気が付くでしょう。\n",
    "なぜならこれはビットからより多くの情報を可視化するためであろう。\n",
    "たとえば、ビット値が他のいくつかのランダムな過程によって生成されたら、どうなるでしょうか？\n",
    "\n",
    "私たちはビット値を０か１かを示すために、黒と白の円を使ってきました。だから、等確率で０か１を示す任意のビットを与え、灰色の円を使うでしょう。\n",
    "\n",
    "ゲートがランダムに操作する方法を示すことができます。\n",
    "\n",
    "### 練習問題\n",
    "*     右側のビットにCNOTゲートを使ってランダムにビットを生成します。"
   ]
  },
  {
   "cell_type": "code",
   "execution_count": null,
   "metadata": {},
   "outputs": [],
   "source": [
    "initialize = [['h', '0']]\n",
    "success_condition = {'IZ': 0.0}\n",
    "allowed_gates = {'0': {'CNOT': 0}, '1': {'CNOT': 0}, 'both': {}}\n",
    "vi = [[], False, False]\n",
    "qubit_names = {'0':'the bit on the left', '1':'the bit on the right'}\n",
    "puzzle = hello_quantum.run_game(initialize, success_condition, allowed_gates, vi, qubit_names)"
   ]
  },
  {
   "cell_type": "markdown",
   "metadata": {},
   "source": [
    "### アウトロ・終結\n",
    "\n",
    "素晴らしいでしょう！\n",
    "\n",
    "ここで起こっていることを考えてみましょう。ランダムにビットをオンかオフのどちらか設定することによって、`CNOT`ゲートを使います。\n",
    "ビットがオフの場合、CNOTゲートは何もせず、右のビットはそのままである。\n",
    "左ビットがオンになっていた場合、CNOTゲートは右ビットにもNOTをしてスイッチを入れます。\n",
    "\n",
    "実際に、このプロセスは左ビットのランダムな値を右ビットにコピーします。そのため、両方の出力はランダムに見えますが、重要な特性があります。\n",
    "\n",
    "上の問題の最後に、2つのビットは2つの灰色の円で表現されています。これは両者がランダムであることを示しているが、両者が常に一致しているという事実については何もわからない。ビットが独立してランダムであったり，ランダムではあるが常に不一致であったりする場合にも，同じ2つの灰色の円が使われます．この違いを見分けるために，問題ボードに何かを追加する必要があります．"
   ]
  },
  {
   "cell_type": "markdown",
   "metadata": {},
   "source": [
    "## パズル 6\n",
    "\n",
    "### イントロダクション・導入\n",
    "問題の下には、新しい円があることがわかるでしょう。\n",
    "これまで見てきた円とは異なり、新しいビットを表すものではありません。その代わりに、2つのビットが一致するかどうかがわかります。\n",
    "大体一致した時、それはオフになるでしょう。不一致ならば、それはオンになるでしょう。\n",
    "もしその一致と不一致がランダムであれば、それはグレーになるでしょう。\n",
    "\n",
    "### 練習問題\n",
    "*   ２ビットがいつも一致しない状況を作り出しましょう。つまり、中心の円を白にする状況である。"
   ]
  },
  {
   "cell_type": "code",
   "execution_count": null,
   "metadata": {
    "scrolled": false
   },
   "outputs": [],
   "source": [
    "initialize = [['h', '0']]\n",
    "success_condition = {'ZZ': -1.0}\n",
    "allowed_gates = {'0': {'NOT': 0, 'CNOT': 0}, '1': {'NOT': 0, 'CNOT': 0}, 'both': {}}\n",
    "vi = [[], False, True]\n",
    "qubit_names = {'0':'the bit on the left', '1':'the bit on the right'}\n",
    "puzzle = hello_quantum.run_game(initialize, success_condition, allowed_gates, vi, qubit_names)"
   ]
  },
  {
   "cell_type": "markdown",
   "metadata": {},
   "source": [
    "## パズル 7\n",
    "\n",
    "### イントロダクション・導入\n",
    "\n",
    "今、ビットについてのすべての知識を、とてもよく知る必要がある。次に移る前に、もう１つ練習問題を解いてみましょう。\n",
    "\n",
    "### 練習問題\n",
    "*  右のビットをオンにしましょう。"
   ]
  },
  {
   "cell_type": "code",
   "execution_count": null,
   "metadata": {},
   "outputs": [],
   "source": [
    "initialize = [['h', '1']]\n",
    "success_condition = {'IZ': -1.0}\n",
    "allowed_gates = {'0': {'NOT': 0, 'CNOT': 0}, '1': {'NOT': 0, 'CNOT': 0}, 'both': {}}\n",
    "vi = [[], False, True]\n",
    "qubit_names = {'0':'the bit on the left', '1':'the bit on the right'}\n",
    "puzzle = hello_quantum.run_game(initialize, success_condition, allowed_gates, vi, qubit_names)"
   ]
  },
  {
   "cell_type": "markdown",
   "metadata": {},
   "source": [
    "### アウトロ・終結\n",
    "\n",
    "これは、ビットが量子になるときに起こることです。量子ビットになるときが来ました。\t"
   ]
  },
  {
   "cell_type": "markdown",
   "metadata": {},
   "source": [
    "# レベル 2: 単純な量子ビットのゲート"
   ]
  },
  {
   "cell_type": "markdown",
   "metadata": {},
   "source": [
    "## パズル 1\n",
    "\n",
    "### イントロダクション・導入\n",
    "量子のしくみの講義をスタートする代わりに、ここで１量子ビットのものを扱ってみましょう。\n",
    "単純な量子ビットのゲート・`X`ゲートを試してみましょう。\n",
    "\n",
    "###  練習問題\n",
    "* `X`ゲートを3回使ってみて、何が起こるか確かめてみましょう。"
   ]
  },
  {
   "cell_type": "code",
   "execution_count": null,
   "metadata": {
    "scrolled": false
   },
   "outputs": [],
   "source": [
    "initialize = [ [\"x\",\"0\"] ]\n",
    "success_condition = {\"ZI\":1.0}\n",
    "allowed_gates = { \"0\":{\"x\":3}, \"1\":{}, \"both\":{} }\n",
    "vi = [[1],True,True]\n",
    "qubit_names = {'0':'the only qubit', '1':None}\n",
    "puzzle = hello_quantum.run_game(initialize, success_condition, allowed_gates, vi, qubit_names)"
   ]
  },
  {
   "cell_type": "markdown",
   "metadata": {},
   "source": [
    "### アウトロ・終結\n",
    "このパズルはとてもよく知られているでしょう。何もしてないのに余計な円があった以外は、少しだけと全く同じでした。\n",
    "それ以外は、Xゲートは正確にはNOTゲートと実際には同じです。"
   ]
  },
  {
   "cell_type": "markdown",
   "metadata": {},
   "source": [
    "## パズル 2\n",
    "\n",
    "### イントロダクション・導入\n",
    "その最後の問題は２つの円があります。これらは異なったビットで出現しなかったです。代わりに、同じ量子ビットとして出現します。\n",
    "量子ビットはビットの量子バージョンです。それらはビットとして同じ性質を持っているが、特別な性質も持っています。\n",
    "ビットは２つの可能な値に制限されているのと同じように、量子ビットも同じです。\n",
    "量子ビットから結果を得ようとするとき、単に1ビットで０か１の値を得るでしょう。\n",
    "しかし、複数のこのビットから抜粋するメソッドが量子ビットにあります。その得られる結果は利用する方法に依存する。\n",
    "最後の問題の２つの円は同じ量子ビットからビットを得ることができる２つの異なる方法を示します。それらは`X`ゲートまたはZの測定と呼びます。その底の円はZ測定の結果を示し、そしてトップの円は`X`ゲートの結果を示します。\n",
    "その円の色はずっと同じであるでしょう。もしその円が黒ならば、対応する結果の値は`0`です。白は`1`という値を得られることを意味します。\n",
    "\n",
    "### 練習問題\n",
    "\n",
    "*  Zの結果をオフしてみましょう。"
   ]
  },
  {
   "cell_type": "code",
   "execution_count": null,
   "metadata": {},
   "outputs": [],
   "source": [
    "initialize = [['x', '0']]\n",
    "success_condition = {'ZI': 1.0}\n",
    "allowed_gates = {'0': {'x': 0}, '1': {}, 'both': {}}\n",
    "vi = [[1], True, True]\n",
    "qubit_names = {'0':'the only qubit', '1':None}\n",
    "puzzle = hello_quantum.run_game(initialize, success_condition, allowed_gates, vi, qubit_names)"
   ]
  },
  {
   "cell_type": "markdown",
   "metadata": {},
   "source": [
    "### アウトロ・終結\n",
    "量子ビットからビットを抽出するプロセスを'測定'と呼びます。\n",
    "独立的にXとZの結果両方を抽出することは不可能です。どちらか１つを選ばなくてはなりません。"
   ]
  },
  {
   "cell_type": "markdown",
   "metadata": {},
   "source": [
    "\n",
    "## パズル 3\n",
    "\n",
    "### イントロダクション・導入\n",
    "このパズルでは、他の量子ビットを確かめることができるでしょう。再度、これは２つの円によって内部の働きを持つでしょう。\n",
    "この量子ビットでは、それらの円はパズルボードの右に置くでしょう。\n",
    "\n",
    "### 練習問題\n",
    "\n",
    "*  他の量子ビットのZの結果をオフしましょう。"
   ]
  },
  {
   "cell_type": "code",
   "execution_count": null,
   "metadata": {},
   "outputs": [],
   "source": [
    "initialize = [['x', '1']]\n",
    "success_condition = {'IZ': 1.0}\n",
    "allowed_gates = {'0': {}, '1': {'x': 0}, 'both': {}}\n",
    "vi = [[0], True, True]\n",
    "qubit_names = {'0':None, '1':'the other qubit'}\n",
    "puzzle = hello_quantum.run_game(initialize, success_condition, allowed_gates, vi, qubit_names)"
   ]
  },
  {
   "cell_type": "markdown",
   "metadata": {},
   "source": [
    "### アウトロ・終結\n",
    "\n",
    "今や、プログラムで使われている名前で、量子ビットと呼び始めるでしょう。：\n",
    "ある左のビットを`q[0]`として、そして右のもう１つのビットを`q[1]`としましょう。\n",
    "\n",
    "また、「Z」の結果と「X」の結果を広く使われないことに留意してください。いつもそれはZ測定の結果と言われるでしょう。\n",
    "しかし、これらのパズルに対して言葉が饒舌なビットです。"
   ]
  },
  {
   "cell_type": "markdown",
   "metadata": {},
   "source": [
    "## パズル 4\n",
    "\n",
    "### イントロダクション・導入\n",
    "新しいゲート`H`ゲートを試してみましょう。\n",
    "\n",
    "これは単純なビットではありえないことです。適用した量子ビットの2つの円を反転する効果を持ちます。\n",
    "もし、素晴らしいアニメーションのフォームを確かめたいならば、[Hello Quantum](https://helloquantum.mybluemix.net/)のアプリケーションを見てください。しかし、これを行っている間、3回繰り返す古いトリックをそれで見るでしょう。\n",
    "\n",
    "### 練習問題\n",
    "*  `H`ゲートを3回使うでしょう。"
   ]
  },
  {
   "cell_type": "code",
   "execution_count": null,
   "metadata": {},
   "outputs": [],
   "source": [
    "initialize = []\n",
    "success_condition = {'ZI': 0.0}\n",
    "allowed_gates = {'0': {'h': 3}, '1': {}, 'both': {}}\n",
    "vi = [[1], True, True]\n",
    "qubit_names = {'0':'q[0]', '1':'q[1]'}\n",
    "puzzle = hello_quantum.run_game(initialize, success_condition, allowed_gates, vi, qubit_names)"
   ]
  },
  {
   "cell_type": "markdown",
   "metadata": {},
   "source": [
    "### アウトロ・終結\n",
    "今、量子プログラムを作り始め、あなたはパズルの下にあるものがわかるでしょう。\n",
    "これらは本物の量子コンピューターを動かしている実際のQiskitのプログラムです。\n",
    "いわゆるこれはサーキットダイアグラムと呼ばれています、量子プログラミングのサーキットダイアグラムを確かめるために、\n",
    "以下のコードを実行させてみましょう。"
   ]
  },
  {
   "cell_type": "code",
   "execution_count": null,
   "metadata": {},
   "outputs": [],
   "source": [
    "puzzle.get_circuit().draw(output='mpl')"
   ]
  },
  {
   "cell_type": "markdown",
   "metadata": {},
   "source": [
    "## パズル 5\n",
    "\n",
    "### イントロダクション・導入\n",
    "Zの結果がすべてオフかオンであるとき、その`X`ゲートは単にその値にフリップします。しかし、最後のパズルを見た時のように、Zの結果がランダムであるとは何でしょうか？練習問題で、確かめてみましょう。\n",
    "\n",
    "### 練習問題\n",
    "*  全てオフにしたZの結果を得ましょう。知っているような`H`ゲートがたくさん使われているでしょう。\n",
    "しかし、3回正確には`X`ゲートが使われています。\n"
   ]
  },
  {
   "cell_type": "code",
   "execution_count": null,
   "metadata": {},
   "outputs": [],
   "source": [
    "initialize = [['h', '1']]\n",
    "success_condition = {'IZ': 1.0}\n",
    "allowed_gates = {'0': {}, '1': {'x': 3, 'h': 0}, 'both': {}}\n",
    "vi = [[0], True, True]\n",
    "qubit_names = {'0':'q[0]', '1':'q[1]'}\n",
    "puzzle = hello_quantum.run_game(initialize, success_condition, allowed_gates, vi, qubit_names)"
   ]
  },
  {
   "cell_type": "code",
   "execution_count": null,
   "metadata": {},
   "outputs": [],
   "source": [
    "puzzle.get_circuit().draw(output='mpl')"
   ]
  },
  {
   "cell_type": "markdown",
   "metadata": {},
   "source": [
    "### アウトロ・終結\n",
    "たとえそのビットを反転させたとしても、ランダムな結果はランダムのままであるとわかります。\n"
   ]
  },
  {
   "cell_type": "markdown",
   "metadata": {},
   "source": [
    "## パズル 6\n",
    "\n",
    "### イントロダクション・導入\n",
    "`X`ゲートはZの結果を反転するとわかるでしょう。新しいゲートが必要だからでしょう。：それは`Z`ゲートです。\n",
    "\n",
    "### 練習問題\n",
    "*  Xの結果をオフしてみましょう。  "
   ]
  },
  {
   "cell_type": "code",
   "execution_count": null,
   "metadata": {},
   "outputs": [],
   "source": [
    "initialize = [['h', '0'], ['z', '0']]\n",
    "success_condition = {'XI': 1.0}\n",
    "allowed_gates = {'0': {'z': 0, 'h': 0}, '1': {}, 'both': {}}\n",
    "vi = [[1], True, True]\n",
    "qubit_names = {'0':'q[0]', '1':'q[1]'}\n",
    "puzzle = hello_quantum.run_game(initialize, success_condition, allowed_gates, vi, qubit_names)"
   ]
  },
  {
   "cell_type": "code",
   "execution_count": null,
   "metadata": {},
   "outputs": [],
   "source": [
    "puzzle.get_circuit().draw(output='mpl')"
   ]
  },
  {
   "cell_type": "markdown",
   "metadata": {},
   "source": [
    "### アウトロ・終結\n",
    "`X`ゲートはZの結果を交換し`Z`ゲートはXの結果を交換します。これは奇妙なものであるでしょう。\n",
    "しかし、より量子コンピューターについて学ぶ必要があります。それは知識をつけることにつながるでしょう。"
   ]
  },
  {
   "cell_type": "markdown",
   "metadata": {},
   "source": [
    "## パズル 7\n",
    "\n",
    "### イントロダクション・導入\n",
    "ゲートを組み合わせることにより、新しい結果を得ることができるでしょう。単純な例では、`Z`と`H`ゲートを組み合わせることにより、`X`ゲートと同じ機能をすることができるでしょう。\n",
    "\n",
    "### 練習問題\n",
    "*  `X`ゲートを使わずにZの結果をオンしましょう。"
   ]
  },
  {
   "cell_type": "code",
   "execution_count": null,
   "metadata": {},
   "outputs": [],
   "source": [
    "initialize = []\n",
    "success_condition = {'ZI': -1.0}\n",
    "allowed_gates = {'0': {'z': 0, 'h': 0}, '1': {}, 'both': {}}\n",
    "vi = [[1], True, True]\n",
    "qubit_names = {'0':'q[0]', '1':'q[1]'}\n",
    "puzzle = hello_quantum.run_game(initialize, success_condition, allowed_gates, vi, qubit_names)"
   ]
  },
  {
   "cell_type": "code",
   "execution_count": null,
   "metadata": {},
   "outputs": [],
   "source": [
    "puzzle.get_circuit().draw(output='mpl')"
   ]
  },
  {
   "cell_type": "markdown",
   "metadata": {},
   "source": [
    "## パズル 8\n",
    "\n",
    "### イントロダクション・導入\n",
    "Zの結果がすべてオンかオフの時に、Xの結果がいつもランダムであることに気が付いているかもしれません。\n",
    "なぜなら、これは量子ビット同時にそれぞれの種類の結果を確信できないからだからかもしれません。\n",
    "もし１つについて確信するときは、ほかのものもランダムに違いないものであります。\n",
    "\n",
    "もしこれがtrueでなければ、２ビットを蓄えるために、ZとXの結果を使うことができるでしょう。\n",
    "量子ビットが持っているものよりもこれはより記憶しやすいものです。\n",
    "複数の方法で出した結果を取り出した真実であるのにも関わらず、それにもかかわらず、\n",
    "1量子ビットを1ビット以上のものをしまっておくことは許可しないでしょう。\n",
    "\n",
    "### 練習問題\n",
    "*  Xの結果をオフにしてZの結果をランダムにしてみましょう。"
   ]
  },
  {
   "cell_type": "code",
   "execution_count": null,
   "metadata": {},
   "outputs": [],
   "source": [
    "initialize = [['h', '0']]\n",
    "success_condition = {'IX': 1.0}\n",
    "allowed_gates = {'0': {}, '1': {'z': 0, 'h': 0}, 'both': {}}\n",
    "vi = [[0], True, True]\n",
    "qubit_names = {'0':'q[0]', '1':'q[1]'}\n",
    "puzzle = hello_quantum.run_game(initialize, success_condition, allowed_gates, vi, qubit_names)"
   ]
  },
  {
   "cell_type": "code",
   "execution_count": null,
   "metadata": {},
   "outputs": [],
   "source": [
    "puzzle.get_circuit().draw(output='mpl')"
   ]
  },
  {
   "cell_type": "markdown",
   "metadata": {},
   "source": [
    "## パズル 9\n",
    "\n",
    "### イントロダクション・導入\n",
    "その制限された事実は２つの結果で共有することができます。例えば、両方の結果によって確証できないかもしれないが、\n",
    "それらが与えた結果についての確証を妥協するでしょう。\n",
    "\n",
    "灰色の異なった影を使うことのよってこれは可視化されるでしょう。\n",
    "より円が暗くなるにつれて、その結果は`0`になるかもしれません。\n",
    "より円が明るくなるにつれて、その結果は`1`になるかもしれません。\n",
    "\n",
    "### 練習問題\n",
    "* 明るい灰色の両方で`q[1]`の２つの円を作りましょう。\n",
    "これは、より高いものでしょう、しかし各自に結果が`1`として、出てくるものではないです。"
   ]
  },
  {
   "cell_type": "code",
   "execution_count": null,
   "metadata": {},
   "outputs": [],
   "source": [
    "initialize = [['ry(pi/4)', '1']]\n",
    "success_condition = {'IZ': -0.7071, 'IX': -0.7071}\n",
    "allowed_gates = {'0': {}, '1': {'z': 0, 'h': 0}, 'both': {}}\n",
    "vi = [[0], True, True]\n",
    "qubit_names = {'0':'q[0]', '1':'q[1]'}\n",
    "puzzle = hello_quantum.run_game(initialize, success_condition, allowed_gates, vi, qubit_names)"
   ]
  },
  {
   "cell_type": "code",
   "execution_count": null,
   "metadata": {},
   "outputs": [],
   "source": [
    "puzzle.get_circuit().draw(output='mpl')"
   ]
  },
  {
   "cell_type": "markdown",
   "metadata": {},
   "source": [
    "## パズル 10\n",
    "\n",
    "### イントロダクション・導入\n",
    "あなたが基本的なツールを知っていく中で、すぐに量子ビットの両方に取り組むことができるでしょう。\n",
    "\n",
    "### 練習問題\n",
    "*  Zの結果をランダムに作り出しましょう。"
   ]
  },
  {
   "cell_type": "code",
   "execution_count": null,
   "metadata": {},
   "outputs": [],
   "source": [
    "initialize = [['x', '1']]\n",
    "success_condition = {'ZI': 0.0, 'IZ': 0.0}\n",
    "allowed_gates = {'0': {'x': 0, 'z': 0, 'h': 0}, '1': {'x': 0, 'z': 0, 'h': 0}, 'both': {}}\n",
    "vi = [[], True, False]\n",
    "qubit_names = {'0':'q[0]', '1':'q[1]'}\n",
    "puzzle = hello_quantum.run_game(initialize, success_condition, allowed_gates, vi, qubit_names)"
   ]
  },
  {
   "cell_type": "code",
   "execution_count": null,
   "metadata": {},
   "outputs": [],
   "source": [
    "puzzle.get_circuit().draw(output='mpl')"
   ]
  },
  {
   "cell_type": "markdown",
   "metadata": {},
   "source": [
    "### アウトロ・終結\n",
    "\n",
    "ここでのそれぞれのZの結果はランダムに`0`か`1`の結果を出すものでしょう。しかし、これらの結果は関係しているでしょうか？\n",
    "完全に無関係でしょうか？\n",
    "ビットの時と同じように、いくつかの余分な円でこの情報を管理していきます。"
   ]
  },
  {
   "cell_type": "markdown",
   "metadata": {},
   "source": [
    "### パズル 11\n",
    "\n",
    "### イントロダクション・導入\n",
    "このパズルでは、４つの新しい円がわかるでしょう。すでにレベル１で見たものもあります。\n",
    "そこで、その2ビットの値が一致（黒）か不一致（白）かの追跡をするであろう。\n",
    "ここで、両方の量子ビットでZの結果が同じ仕事にいるでしょう。\n",
    "\n",
    "### 練習問題\n",
    "\n",
    "*  Zの結果が不一致の状況を作ってみましょう。"
   ]
  },
  {
   "cell_type": "code",
   "execution_count": null,
   "metadata": {},
   "outputs": [],
   "source": [
    "initialize = [['h','0'],['h','1']]\n",
    "success_condition = {'ZZ': -1.0}\n",
    "allowed_gates = {'0': {'x': 0, 'z': 0, 'h': 0}, '1': {'x': 0, 'z': 0, 'h': 0}, 'both': {}}\n",
    "vi = [[], True, True]\n",
    "qubit_names = {'0':'q[0]', '1':'q[1]'}\n",
    "puzzle = hello_quantum.run_game(initialize, success_condition, allowed_gates, vi, qubit_names)"
   ]
  },
  {
   "cell_type": "code",
   "execution_count": null,
   "metadata": {},
   "outputs": [],
   "source": [
    "puzzle.get_circuit().draw(output='mpl')"
   ]
  },
  {
   "cell_type": "markdown",
   "metadata": {},
   "source": [
    "## パズル 12\n",
    "\n",
    "### イントロダクション・導入\n",
    "そのトップの新しい円は似ている仕事です。このケースでは、両方の量子ビットのXの結果で一致か不一致の可能性を追跡します。\n",
    "\n",
    "### 練習問題\n",
    "*  一致するようなXの結果を作り出してみましょう。"
   ]
  },
  {
   "cell_type": "code",
   "execution_count": null,
   "metadata": {},
   "outputs": [],
   "source": [
    "initialize = [['x','0']]\n",
    "success_condition = {'XX': 1.0}\n",
    "allowed_gates = {'0': {'x': 0, 'z': 0, 'h': 0}, '1': {'x': 0, 'z': 0, 'h': 0}, 'both': {}}\n",
    "vi = [[], True, True]\n",
    "qubit_names = {'0':'q[0]', '1':'q[1]'}\n",
    "puzzle = hello_quantum.run_game(initialize, success_condition, allowed_gates, vi, qubit_names)"
   ]
  },
  {
   "cell_type": "code",
   "execution_count": null,
   "metadata": {},
   "outputs": [],
   "source": [
    "puzzle.get_circuit().draw(output='mpl')"
   ]
  },
  {
   "cell_type": "markdown",
   "metadata": {},
   "source": [
    "### アウトロ・終結\n",
    "もしこの情報で出てきたものはまさに新しい円であることの理由を考えるならば、\n",
    "ある量子ビットのX出力から一行が伸びていて、もう一行が他の量子ビットのX出力から出ていることを考えてみてください。\n",
    "一番の円は2列が重なっているところにあります。これは、２つのX出力の間の一致が出現する理由です。"
   ]
  },
  {
   "cell_type": "markdown",
   "metadata": {},
   "source": [
    "### パズル13\n",
    "\n",
    "### イントロダクション・導入\n",
    "すでに説明するための２つの新しい円があります。１つは`q[0]`からのZ出力の列が`q[1]`からのX出力の列にある。これは`q[0]`のZ出力が`q[1]`からのX出力に一致しうるかどうかを示します。`q[0]`のX出力と`q[1]`出力においては、ほかのものは同じです。\n",
    "\n",
    "### 練習問題\n",
    "* `q[1]`のZ出力と不一致な`q[0]`のX出力を作ってみましょう。"
   ]
  },
  {
   "cell_type": "code",
   "execution_count": null,
   "metadata": {},
   "outputs": [],
   "source": [
    "initialize = []\n",
    "success_condition = {'XZ': -1.0}\n",
    "allowed_gates = {'0': {'x': 0, 'z': 0, 'h': 0}, '1': {'x': 0, 'z': 0, 'h': 0}, 'both': {}}\n",
    "vi = [[], True, True]\n",
    "qubit_names = {'0':'q[0]', '1':'q[1]'}\n",
    "puzzle = hello_quantum.run_game(initialize, success_condition, allowed_gates, vi, qubit_names)"
   ]
  },
  {
   "cell_type": "code",
   "execution_count": null,
   "metadata": {},
   "outputs": [],
   "source": [
    "puzzle.get_circuit().draw(output='mpl')"
   ]
  },
  {
   "cell_type": "markdown",
   "metadata": {},
   "source": [
    "### パズル 14\n",
    "\n",
    "### イントロダクション・導入\n",
    "`X`と`Z`ゲートは新しい円に影響する方法に気が付きましょう。特に`X`ゲートは単純な`Z`ゲートに影響しません。しかしすべての列ではないです。\n",
    "ただ黒と白（または暗いものと明るいもの）の円とを反転するでしょう。また、その逆もあるでしょう。\n",
    "\n",
    "### 練習問題\n",
    "*  できるかぎりのZの出力をしてみましょう。"
   ]
  },
  {
   "cell_type": "code",
   "execution_count": null,
   "metadata": {},
   "outputs": [],
   "source": [
    "initialize = [['ry(-pi/4)', '1'], ['ry(-pi/4)','0']]\n",
    "success_condition = {'ZI': -0.7071, 'IZ': -0.7071}\n",
    "allowed_gates = {'0': {'x': 0}, '1': {'x': 0}, 'both': {}}\n",
    "vi = [[], True, True]\n",
    "qubit_names = {'0':'q[0]', '1':'q[1]'}\n",
    "puzzle = hello_quantum.run_game(initialize, success_condition, allowed_gates, vi, qubit_names)"
   ]
  },
  {
   "cell_type": "code",
   "execution_count": null,
   "metadata": {},
   "outputs": [],
   "source": [
    "puzzle.get_circuit().draw(output='mpl')"
   ]
  },
  {
   "cell_type": "markdown",
   "metadata": {},
   "source": [
    "### アウトロ・終結\n",
    "次のパズルを見ていきながら、`Z`ゲートは同じような方法でX出力の列に影響します。"
   ]
  },
  {
   "cell_type": "markdown",
   "metadata": {},
   "source": [
    "## パズル 15\n",
    "\n",
    "### イントロダクション・導入\n",
    "以前、`H`ゲートは円のペアを反転する方法を示したでしょう。：同じ方法でそのペアに影響するまで、その円のペアは反転します。\n",
    "再度、素晴らしいアニメーションの[Hello Quantum](https://helloquantum.mybluemix.net/)アプリケーションを確かめてみてください。\n",
    "\n",
    "### 練習問題\n",
    "*  X出力をオフしてみましょう。"
   ]
  },
  {
   "cell_type": "code",
   "execution_count": null,
   "metadata": {},
   "outputs": [],
   "source": [
    "initialize = [['x', '1'], ['x','0']]\n",
    "success_condition = {'XI':1, 'IX':1}\n",
    "allowed_gates = {'0': {'z': 0, 'h': 0}, '1': {'z': 0, 'h': 0}, 'both': {}}\n",
    "vi = [[], True, True]\n",
    "qubit_names = {'0':'q[0]', '1':'q[1]'}\n",
    "puzzle = hello_quantum.run_game(initialize, success_condition, allowed_gates, vi, qubit_names)"
   ]
  },
  {
   "cell_type": "code",
   "execution_count": null,
   "metadata": {},
   "outputs": [],
   "source": [
    "puzzle.get_circuit().draw(output='mpl')"
   ]
  },
  {
   "cell_type": "markdown",
   "metadata": {},
   "source": [
    "### 結果\n",
    "これで、2つの量子ビットがどのようなものか、そしてそれらを個別に操作する方法についての基本的なことは理解できたでしょう。\n",
    "しかし、2つの量子ビットゲートを使い始めると、本当の面白さが出てきます。"
   ]
  },
  {
   "cell_type": "markdown",
   "metadata": {},
   "source": [
    "# レベル 3: ２量子ビットのゲート"
   ]
  },
  {
   "cell_type": "markdown",
   "metadata": {},
   "source": [
    "### パズル 1\n",
    "\n",
    "### イントロダクション・導入\n",
    "ビットの練習問題では、`CNOT`ゲートを使いました。このような理由から、それを`CX`として、Qiskitプログラムに\n",
    "qubitsについては、`NOT`の量子バージョンである`X`を用いて、同様のゲートを持ちます。\n",
    "古典の`CNOT`ゲートのような`CX`ゲートは制御とターゲットを持ちます。\n",
    "それはZの出力結果が制御するためのもので、それはターゲットの量子ビットを`X`ゲートに対応するかどうかを決めるのに使うのに効果的でしょう。\n",
    "このゲートを適用すると、その選択した量子ビットはターゲットになります。それから、他の量子ビットは制御されるでしょう。\n",
    "\n",
    "###  練習問題\n",
    "\n",
    "* 　　q[1]のZの出力をオンするために、また、q[0]のZ出力をオフするために`CX`ゲートか２つものを使いましょう。"
   ]
  },
  {
   "cell_type": "code",
   "execution_count": null,
   "metadata": {
    "scrolled": false
   },
   "outputs": [],
   "source": [
    "initialize = [['x', '0']]\n",
    "success_condition = {'ZI': 1.0, 'IZ': -1.0}\n",
    "allowed_gates = {'0': {'cx': 0}, '1': {'cx': 0}, 'both': {}}\n",
    "vi = [[], True, True]\n",
    "qubit_names = {'0':'q[0]', '1':'q[1]'}\n",
    "puzzle = hello_quantum.run_game(initialize, success_condition, allowed_gates, vi, qubit_names)"
   ]
  },
  {
   "cell_type": "code",
   "execution_count": null,
   "metadata": {},
   "outputs": [],
   "source": [
    "puzzle.get_circuit().draw(output='mpl')"
   ]
  },
  {
   "cell_type": "markdown",
   "metadata": {},
   "source": [
    "## Puzzle 2\n",
    "\n",
    "### イントロダクション・導入\n",
    "`CX`ゲートと同様に、それもまた`CZ`ゲートがあります。これは`X`ゲートの代わりにターゲットを潜在的に`Z`ゲートに対応することを除いて、\n",
    "同じです。\n",
    "\n",
    "###  練習問題\n",
    "*  q[0]のX出力をオンをして、q[1]のZ出力をオフします。"
   ]
  },
  {
   "cell_type": "code",
   "execution_count": null,
   "metadata": {},
   "outputs": [],
   "source": [
    "initialize = [['h', '0'],['x', '1']]\n",
    "success_condition = {'XI': -1.0, 'IZ': 1.0}\n",
    "allowed_gates = {'0': {'cz': 0}, '1': {}, 'both': {}}\n",
    "vi = [[], True, True]\n",
    "qubit_names = {'0':'q[0]', '1':'q[1]'}\n",
    "puzzle = hello_quantum.run_game(initialize, success_condition, allowed_gates, vi, qubit_names)"
   ]
  },
  {
   "cell_type": "code",
   "execution_count": null,
   "metadata": {},
   "outputs": [],
   "source": [
    "puzzle.get_circuit().draw(output='mpl')"
   ]
  },
  {
   "cell_type": "markdown",
   "metadata": {},
   "source": [
    "## パズル 2b\n",
    "\n",
    "### イントロダクション・導入\n",
    "その量子ゲートについての興味深いことは、しばしばそれらが行っていることを説明する複数の方法です。\n",
    "これらの説明はたまに完全に不完全であるかもしれませんが、それもまたほとんど正しいことです。\n",
    "例えば、`CZ`ゲートもまた、*ターゲット*のZ出力に依存して、*制御*量子ビットに対応したゲートとして記述されうるでしょう。\n",
    "前と全く同じ説明だが、量子ビットの役割が逆になっている。\n",
    "しかしながら、これはほとんどtrueです。\n",
    "\n",
    "###  練習問題\n",
    "* 最後の練習問題の同じものとして、量子ビットを取っておくでしょう。"
   ]
  },
  {
   "cell_type": "code",
   "execution_count": null,
   "metadata": {},
   "outputs": [],
   "source": [
    "initialize = [['h', '1'],['x', '0']]\n",
    "success_condition = {'IX': -1.0, 'ZI': 1.0}\n",
    "allowed_gates = {'0': {}, '1': {'cz': 0}, 'both': {}}\n",
    "vi = [[], True, True]\n",
    "qubit_names = {'0':'q[0]', '1':'q[1]'}\n",
    "puzzle = hello_quantum.run_game(initialize, success_condition, allowed_gates, vi, qubit_names)"
   ]
  },
  {
   "cell_type": "code",
   "execution_count": null,
   "metadata": {},
   "outputs": [],
   "source": [
    "puzzle.get_circuit().draw(output='mpl')"
   ]
  },
  {
   "cell_type": "markdown",
   "metadata": {},
   "source": [
    "## パズル 3\n",
    "\n",
    "### イントロダクション・導入\n",
    "さて、全く異なる、しかし同じようにtrueである、`CZ`の別の説明をします。\n",
    "`H`ゲートのように、私たちは円を反転させる面ではそのことについて考えます。\n",
    "その`CZ`ゲートが以下のことに影響します。：\n",
    "    -トップの右の隣の円を`q[0]`のX出力を交換します。;\n",
    "    -トップの左の円について、`q[1]`のX出力で同じにします。;\n",
    "また、`CZ`はグリッドの上部にある円に何か不思議なことをしますが、それは後で解決される謎です。\n",
    "再度、the [Hello Quantum](https://helloquantum.mybluemix.net/)のアプリは素晴らしいアニメーションを見せてくれるでしょう。\n",
    "\n",
    "###  練習問題\n",
    "*  制御したそれぞれの量子ビットに2回`CZ`ゲートを実行しましょう。そして、何が起こるのかを確かめましょう。"
   ]
  },
  {
   "cell_type": "code",
   "execution_count": null,
   "metadata": {
    "scrolled": false
   },
   "outputs": [],
   "source": [
    "initialize = [['h', '0'],['x', '1'],['h', '1']]\n",
    "success_condition = { }\n",
    "allowed_gates = {'0':{'cz': 2}, '1':{'cz': 2}, 'both': {}}\n",
    "vi = [[], True, True]\n",
    "qubit_names = {'0':'q[0]', '1':'q[1]'}\n",
    "puzzle = hello_quantum.run_game(initialize, success_condition, allowed_gates, vi, qubit_names)"
   ]
  },
  {
   "cell_type": "code",
   "execution_count": null,
   "metadata": {},
   "outputs": [],
   "source": [
    "puzzle.get_circuit().draw(output='mpl')"
   ]
  },
  {
   "cell_type": "markdown",
   "metadata": {},
   "source": [
    "###  アウトロ・終結\n",
    "ここまで、`CZ`ゲートについて何か役に立つことを学んできました。：\n",
    "制御のために選んだ量子ビットも問題はないです。`CZ`ゲートはどのケースも同じでしょう。\n",
    "このようなことが理由で、`CZ`ゲートで制御している量子ビットを選ぶことは、今でも要求されていないでしょう。"
   ]
  },
  {
   "cell_type": "markdown",
   "metadata": {},
   "source": [
    "## パズル 3b\n",
    "\n",
    "### イントロダクション・導入\n",
    "先ほど言及した通り、XとZの出力は量子ビットから出力を得る２つの方法を対応します。：XとZ測定です。\n",
    "これらの名前がヒントとなり、Y測定を3番目の方法としてみるでしょう。\n",
    "これらのパズルでは、現象をより単純にするために、ほとんどY測定について無視します。\n",
    "しかしながら、量子ビットの完全な記述では、Y出力がどのようなものであるかを追跡する必要があります。\n",
    "それぞれの量子ビットのYの出力は、ほかの円の列に加えることを意味します。\n",
    "その次の練習問題では、Yの出力の列が示されていることを除き、最後まで正確に同じです。\n",
    "これを使えば、最後のパズルで見たような不思議な効果は、まったく不思議ではありません。\n",
    "ご自分の目で確かめてみてください。\n",
    "\n",
    "###  練習問題\n",
    "*  `CZ`ゲートは2回実行しましょう。そして、そこで起こることを見てみましょう。"
   ]
  },
  {
   "cell_type": "code",
   "execution_count": null,
   "metadata": {},
   "outputs": [],
   "source": [
    "initialize = [['h', '0'],['x', '1'],['h', '1']]\n",
    "success_condition = { }\n",
    "allowed_gates = {'0': {}, '1': {}, 'both': {'cz': 2}}\n",
    "vi = [[], True, True]\n",
    "qubit_names = {'0':'q[0]', '1':'q[1]'}\n",
    "puzzle = hello_quantum.run_game(initialize, success_condition, allowed_gates, vi, qubit_names, mode='y')"
   ]
  },
  {
   "cell_type": "code",
   "execution_count": null,
   "metadata": {},
   "outputs": [],
   "source": [
    "puzzle.get_circuit().draw(output='mpl')"
   ]
  },
  {
   "cell_type": "markdown",
   "metadata": {},
   "source": [
    "### アウトロ・終結\n",
    "ここで`CZ`ゲートによって、３番目の円の交換であることがわかります。そのトップの円（両方の量子ビットのXゲートのための相関関係を示すこと）は中間（両方の量子ビットのYの出力の相関関係を示すもの）の１つを交換します。\n",
    "その中間の列を見逃したとき、これは不思議なように思われます。これはただ、その量子ビットの記述は不完全であっただけです。\n",
    "それにも関わらず、Yの出力なしで、よりシンプルなグリッドを使うでしょう。\n",
    "もし、それらを加えるならば、`mode='y'`の議論を`hello_quantum.run_game`を使うでしょう。"
   ]
  },
  {
   "cell_type": "markdown",
   "metadata": {},
   "source": [
    "## パズル 4\n",
    "\n",
    "### イントロダクション・導入\n",
    "その前の練習問題で、`Z`ゲートと`X`ゲートから`H`ゲートを構築したでしょう。同じような方法で、`CZ`ゲートと`H`ゲートぁら`CX`ゲートを構築することができます。\n",
    "\n",
    "\n",
    "###  練習問題\n",
    "*  q[1]のZの出力をオンしましょう。"
   ]
  },
  {
   "cell_type": "code",
   "execution_count": null,
   "metadata": {},
   "outputs": [],
   "source": [
    "initialize = [['x', '0']]\n",
    "success_condition = {'IZ': -1.0}\n",
    "allowed_gates = {'0': {'h':0}, '1': {'h':0}, 'both': {'cz': 0}}\n",
    "vi = [[], True, True]\n",
    "qubit_names = {'0':'q[0]', '1':'q[1]'}\n",
    "puzzle = hello_quantum.run_game(initialize, success_condition, allowed_gates, vi, qubit_names)"
   ]
  },
  {
   "cell_type": "code",
   "execution_count": null,
   "metadata": {},
   "outputs": [],
   "source": [
    "puzzle.get_circuit().draw(output='mpl')"
   ]
  },
  {
   "cell_type": "markdown",
   "metadata": {},
   "source": [
    "### アウトロ・終結\n",
    "`CZ`ゲートと異なり、`CX`ゲートは対称的でないものです。もし、代わりに`q[0]`がターゲットの`CX`ゲートを構築したいならば、代わりに`q[0]`の`H`ゲートを構築しましょう。"
   ]
  },
  {
   "cell_type": "markdown",
   "metadata": {},
   "source": [
    "### パズル 5\n",
    "\n",
    "### イントロダクション・導入\n",
    "我々は`CZ`を「逆方向」に解釈することができました。つまり、ターゲットとなる量子ビットが制御の役割を果たし、\n",
    "逆にターゲットの量子ビットが制御の役割を果たすという代替の説明ができました。次に、`CX`についても同じように解釈してみましょう。\n",
    "`CX`ゲートと同じでしょう。しかしながら、そのゲートは対償的な結果を持つから、これは少しトリッキーでしょう。\n",
    "\n",
    "特に、そのことを考える代わりに、コントロールの Z 出力が何をしているかに応じてターゲットに `x`ゲート を行うと考えれば、ターゲットの X 出力が何をしているかに応じてコントロールに `z`ゲートを実行すると考えることができます。\n",
    "この練習問題では。ターゲットがコントロールしているようにみえて、実際にはコントロールがターゲットになっているのがわかるでしょう。\n",
    "\n",
    "###  練習問題\n",
    "* `q[0]`のX出力をオンしましょう。"
   ]
  },
  {
   "cell_type": "code",
   "execution_count": null,
   "metadata": {},
   "outputs": [],
   "source": [
    "initialize = [['h', '0'],['h', '1']]\n",
    "success_condition = {'XI': -1.0, 'IX': -1.0}\n",
    "allowed_gates = {'0': {}, '1': {'z':0,'cx': 0}, 'both': {}}\n",
    "vi = [[], True, True]\n",
    "qubit_names = {'0':'q[0]', '1':'q[1]'}\n",
    "puzzle = hello_quantum.run_game(initialize, success_condition, allowed_gates, vi, qubit_names)"
   ]
  },
  {
   "cell_type": "code",
   "execution_count": null,
   "metadata": {},
   "outputs": [],
   "source": [
    "puzzle.get_circuit().draw(output='mpl')"
   ]
  },
  {
   "cell_type": "markdown",
   "metadata": {},
   "source": [
    "### アウトロ・終結\n",
    "どのように`CX`ゲートの動くかどうかについての２つの異なる話は矛盾しているように見えるかもしれないが、\n",
    "それらは同じように有効な記述です。\n",
    "量子ゲートの不思議で素晴らしい性質を示す素晴らしい例です。"
   ]
  },
  {
   "cell_type": "markdown",
   "metadata": {},
   "source": [
    "### パズル 6\n",
    "\n",
    "### イントロダクション・導入\n",
    "`CX`ゲートのこれらの２つの演算子を知っていて、とても役に立つものを実行できるでしょう。：1度戻ってみましょう。\n",
    "このパズルでは、ターゲットとした`q[1]`とともに`CX`ゲートを得るでしょう。しかし、`q[0]`をターゲットとして、１つのものを必要でしょう。\n",
    "いくつかの `h` ゲートの助けを借りて同じ効果を得る方法を見つけることができるかどうか見てみましょう。\n",
    "\n",
    "###  練習問題\n",
    "* `q[1]`のZ出力を維持しましょう。しかし、`q[0]`をZの出力をオフしましょう。"
   ]
  },
  {
   "cell_type": "code",
   "execution_count": null,
   "metadata": {},
   "outputs": [],
   "source": [
    "initialize = [('x','0'),('x','1')]\n",
    "success_condition = {'ZI': 1.0,'IZ': -1.0}\n",
    "allowed_gates = {'0': {'h':0}, '1': {'h':0,'cx':0}, 'both': {}}\n",
    "vi = [[], True, True]\n",
    "qubit_names = {'0':'q[0]', '1':'q[1]'}\n",
    "puzzle = hello_quantum.run_game(initialize, success_condition, allowed_gates, vi, qubit_names)"
   ]
  },
  {
   "cell_type": "code",
   "execution_count": null,
   "metadata": {},
   "outputs": [],
   "source": [
    "puzzle.get_circuit().draw(output='mpl')"
   ]
  },
  {
   "cell_type": "markdown",
   "metadata": {},
   "source": [
    "### アウトロ・終結\n",
    "もし、練習問題から何かを記憶するならば、おそらくそれはこのようなことであろう。\n",
    "本物の量子ビットのデバイスにとって、`CX`ゲートを実行できる方法を制限することは共通でしょう。\n",
    "また、それらの周囲を動かす力はとてもハンディです。"
   ]
  },
  {
   "cell_type": "markdown",
   "metadata": {},
   "source": [
    "### パズル  7\n",
    "\n",
    "### イントロダクション・導入\n",
    "他の有用な量子ゲートは`swap`ゲートです。これは名前から推測されることです。：２量子ビットの状態を交換します。\n",
    "Qiskitを通して、`swap`コマンドを単に呼び出すことを許可し、`CZ`ゲートや`CX`ゲートを自身で作り出すことはより興味深いことです。\n",
    "\n",
    "###  練習問題\n",
    "* ２量子ビットを交換しましょう。\n",
    "    -  q[0]にZの出力結果・白とXの出力結果灰色を作り出しましょう。\n",
    "    -  q[1]にZの出力結果・暗い灰色とXの出力結果・明るい灰色を作り出しましょう。"
   ]
  },
  {
   "cell_type": "code",
   "execution_count": null,
   "metadata": {},
   "outputs": [],
   "source": [
    "initialize = [['ry(-pi/4)','0'],['ry(-pi/4)','0'],['ry(-pi/4)','0'],['x','0'],['x','1']]\n",
    "success_condition = {'ZI': -1.0,'XI':0,'IZ':0.7071,'IX':-0.7071}\n",
    "allowed_gates = {'0': {'h':0}, '1': {'h':0}, 'both': {'cz': 0}}\n",
    "vi = [[], True, True]\n",
    "qubit_names = {'0':'q[0]', '1':'q[1]'}\n",
    "puzzle = hello_quantum.run_game(initialize, success_condition, allowed_gates, vi, qubit_names)"
   ]
  },
  {
   "cell_type": "code",
   "execution_count": null,
   "metadata": {},
   "outputs": [],
   "source": [
    "puzzle.get_circuit().draw(output='mpl')"
   ]
  },
  {
   "cell_type": "markdown",
   "metadata": {},
   "source": [
    "### アウトロ・終結\n",
    "このパズルの解法が一般的な目的・`swap`であるとは限らないであろうことに留意してください。\n",
    "次の問題のために、それらの問題・swapゲートの実装の解法を比較してください。"
   ]
  },
  {
   "cell_type": "markdown",
   "metadata": {},
   "source": [
    "## パズル 8\n",
    "\n",
    "#### イントロダクション・導入\n",
    "これは他の`swap`ゲートを作りだすアイデアを基本としたパズルです。\n",
    "\n",
    "#### 練習問題\n",
    "* 2量子ビットを交換しましょう\n",
    "       * q[0]にXの出力結果・黒を作りましょう。\n",
    "       * q[1]にZの出力結果・白を作りましょう。\n",
    "* ３つの`CZ`ゲートを実行しましょう。"
   ]
  },
  {
   "cell_type": "code",
   "execution_count": 1,
   "metadata": {},
   "outputs": [
    {
     "ename": "NameError",
     "evalue": "name 'hello_quantum' is not defined",
     "output_type": "error",
     "traceback": [
      "\u001b[1;31m---------------------------------------------------------------------------\u001b[0m",
      "\u001b[1;31mNameError\u001b[0m                                 Traceback (most recent call last)",
      "\u001b[1;32m<ipython-input-1-f01d166d634d>\u001b[0m in \u001b[0;36m<module>\u001b[1;34m\u001b[0m\n\u001b[0;32m      4\u001b[0m \u001b[0mvi\u001b[0m \u001b[1;33m=\u001b[0m \u001b[1;33m[\u001b[0m\u001b[1;33m[\u001b[0m\u001b[1;33m]\u001b[0m\u001b[1;33m,\u001b[0m \u001b[1;32mTrue\u001b[0m\u001b[1;33m,\u001b[0m \u001b[1;32mTrue\u001b[0m\u001b[1;33m]\u001b[0m\u001b[1;33m\u001b[0m\u001b[1;33m\u001b[0m\u001b[0m\n\u001b[0;32m      5\u001b[0m \u001b[0mqubit_names\u001b[0m \u001b[1;33m=\u001b[0m \u001b[1;33m{\u001b[0m\u001b[1;34m'0'\u001b[0m\u001b[1;33m:\u001b[0m\u001b[1;34m'q[0]'\u001b[0m\u001b[1;33m,\u001b[0m \u001b[1;34m'1'\u001b[0m\u001b[1;33m:\u001b[0m\u001b[1;34m'q[1]'\u001b[0m\u001b[1;33m}\u001b[0m\u001b[1;33m\u001b[0m\u001b[1;33m\u001b[0m\u001b[0m\n\u001b[1;32m----> 6\u001b[1;33m \u001b[0mpuzzle\u001b[0m \u001b[1;33m=\u001b[0m \u001b[0mhello_quantum\u001b[0m\u001b[1;33m.\u001b[0m\u001b[0mrun_game\u001b[0m\u001b[1;33m(\u001b[0m\u001b[0minitialize\u001b[0m\u001b[1;33m,\u001b[0m \u001b[0msuccess_condition\u001b[0m\u001b[1;33m,\u001b[0m \u001b[0mallowed_gates\u001b[0m\u001b[1;33m,\u001b[0m \u001b[0mvi\u001b[0m\u001b[1;33m,\u001b[0m \u001b[0mqubit_names\u001b[0m\u001b[1;33m,\u001b[0m\u001b[0mshots\u001b[0m\u001b[1;33m=\u001b[0m\u001b[1;36m2000\u001b[0m\u001b[1;33m)\u001b[0m\u001b[1;33m\u001b[0m\u001b[1;33m\u001b[0m\u001b[0m\n\u001b[0m",
      "\u001b[1;31mNameError\u001b[0m: name 'hello_quantum' is not defined"
     ]
    }
   ],
   "source": [
    "initialize = [['x','0'],['h','1']]\n",
    "success_condition = {'XI':1,'IZ':-1}\n",
    "allowed_gates = {'0': {'h':0}, '1': {'h':0}, 'both': {'cz':3}}\n",
    "vi = [[], True, True]\n",
    "qubit_names = {'0':'q[0]', '1':'q[1]'}\n",
    "puzzle = hello_quantum.run_game(initialize, success_condition, allowed_gates, vi, qubit_names,shots=2000)"
   ]
  },
  {
   "cell_type": "code",
   "execution_count": null,
   "metadata": {},
   "outputs": [],
   "source": [
    "puzzle.get_circuit().draw(output='mpl')"
   ]
  },
  {
   "cell_type": "markdown",
   "metadata": {},
   "source": [
    "## パズル 9\n",
    "\n",
    "#### イントロダクション・導入\n",
    "ここで、ほかの`swap`ゲートを基本としたパズルを考えましょう。\n",
    "\n",
    "#### 練習問題\n",
    "* ２量子ビットを交換しましょう。：\n",
    "        * q[0]にZの出力結果をオンしましょう。\n",
    "        * q[1]にZの出力結果をオフしましょう。"
   ]
  },
  {
   "cell_type": "code",
   "execution_count": null,
   "metadata": {
    "scrolled": false
   },
   "outputs": [],
   "source": [
    "initialize = [['x','1']]\n",
    "success_condition = {'IZ':1.0,'ZI':-1.0}\n",
    "allowed_gates = {'0': {'h':0}, '1': {'h':0}, 'both': {'cz':0}}\n",
    "vi = [[], True, True]\n",
    "qubit_names = {'0':'q[0]', '1':'q[1]'}\n",
    "puzzle = hello_quantum.run_game(initialize, success_condition, allowed_gates, vi, qubit_names,shots=2000)"
   ]
  },
  {
   "cell_type": "code",
   "execution_count": null,
   "metadata": {},
   "outputs": [],
   "source": [
    "puzzle.get_circuit().draw(output='mpl')"
   ]
  },
  {
   "cell_type": "markdown",
   "metadata": {},
   "source": [
    "# レベル 4:クリフォードゲートを超すもの "
   ]
  },
  {
   "cell_type": "markdown",
   "metadata": {},
   "source": [
    "## パズル1a\n",
    "\n",
    "### イントロダクション・導入\n",
    "今まで見てきたゲート'クリフォードゲート'は量子コンピューターで情報を操作したり動かしたりするためにとても大事なものです。\n",
    "しかしながら、クリフォードゲート単独で使った標準的なコンピューターでより性能が優れているアルゴリズムを作り出すことはできないでしょう。\n",
    "新しいゲートが必要です。このパズルは、もう一度トライする機会を与えます。\n",
    "もしそれが働くことができるのであれば、単純に2～3回実行してみましょう。\n",
    "\n",
    "\n",
    "###  練習問題\n",
    "* q[0]に4回、`ry(pi/4)`を適応させてみましょう。"
   ]
  },
  {
   "cell_type": "code",
   "execution_count": null,
   "metadata": {
    "scrolled": false
   },
   "outputs": [],
   "source": [
    "initialize = []\n",
    "success_condition = {}\n",
    "allowed_gates = {'0': {'ry(pi/4)': 4}, '1': {}, 'both': {}}\n",
    "vi = [[], True, True]\n",
    "qubit_names = {'0':'q[0]', '1':'q[1]'}\n",
    "puzzle = hello_quantum.run_game(initialize, success_condition, allowed_gates, vi, qubit_names)"
   ]
  },
  {
   "cell_type": "code",
   "execution_count": null,
   "metadata": {},
   "outputs": [],
   "source": [
    "puzzle.get_circuit().draw(output='mpl')"
   ]
  },
  {
   "cell_type": "markdown",
   "metadata": {},
   "source": [
    "###  アウトロ・終結\n",
    "もしそれが実行できたなら、それは素晴らしいことです！残りの問題は、その理解を手助けするために何か新しいことを試してみましょう！"
   ]
  },
  {
   "cell_type": "markdown",
   "metadata": {},
   "source": [
    "## パズル 1b\n",
    "\n",
    "### イントロダクション・導入\n",
    "その今までみたゲートをより理解を深めるするために、視覚化された量子ビットに異なる方法を用いてみましょう。\n",
    "ここで、この`0`を確かに与える出力結果は白の円より白の線が出現するでしょう。\n",
    "確かに`1`を与える出力結果は黒の円の代わりに黒の線でしょう。\\n\",\n",
    "ランダムな出力結果では、灰色の円の代わりに一部黒と白の線のものがわかるでしょう。\n",
    "\n",
    "この新しい視覚化に慣れていることを助ける古い練習問題を紹介しましょう。\n",
    "\n",
    "###  練習問題\n",
    "* ほとんど値が一致するXの出力結果を作って見ましょう。"
   ]
  },
  {
   "cell_type": "code",
   "execution_count": null,
   "metadata": {},
   "outputs": [],
   "source": [
    "initialize = [['x','0']]\n",
    "success_condition = {'XX': 1.0}\n",
    "allowed_gates = {'0': {'x': 0, 'z': 0, 'h': 0}, '1': {'x': 0, 'z': 0, 'h': 0}, 'both': {}}\n",
    "vi = [[], True, True]\n",
    "qubit_names = {'0':'q[0]', '1':'q[1]'}\n",
    "puzzle = hello_quantum.run_game(initialize, success_condition, allowed_gates, vi, qubit_names, mode='line')"
   ]
  },
  {
   "cell_type": "code",
   "execution_count": null,
   "metadata": {},
   "outputs": [],
   "source": [
    "puzzle.get_circuit().draw(output='mpl')"
   ]
  },
  {
   "cell_type": "markdown",
   "metadata": {},
   "source": [
    "## パズル 1c\n",
    "\n",
    "### イントロダクション・導入\n",
    "このパズルでは、新しいことを実行するでしょう。：それは`bloch`です。\n",
    "これは実際のゲートではなく、量子プログラムを見せるものではないであろう。\n",
    "代わりに、それぞれのトップにある量子ビットの2本の線を描くことにより、視覚的な変化をするものです。\n",
    "それはまたレベルを横切るポイントを示し、幸運にも`ry(pi/4)`の動き方を示すことができます。\n",
    "\n",
    "\n",
    "###  練習問題\n",
    "* `q[0]`の下の線をすべてオンにしてください。そうすると`bloch`ゲートを使うことができます。"
   ]
  },
  {
   "cell_type": "code",
   "execution_count": null,
   "metadata": {
    "scrolled": false
   },
   "outputs": [],
   "source": [
    "initialize = []\n",
    "success_condition = {'ZI': -1.0}\n",
    "allowed_gates = {'0': {'bloch':1, 'ry(pi/4)': 0}, '1':{}, 'both': {'unbloch':0}}\n",
    "vi = [[], True, True]\n",
    "qubit_names = {'0':'q[0]', '1':'q[1]'}\n",
    "puzzle = hello_quantum.run_game(initialize, success_condition, allowed_gates, vi, qubit_names, mode='line')"
   ]
  },
  {
   "cell_type": "code",
   "execution_count": null,
   "metadata": {},
   "outputs": [],
   "source": [
    "puzzle.get_circuit().draw(output='mpl')"
   ]
  },
  {
   "cell_type": "markdown",
   "metadata": {},
   "source": [
    "###  アウトロ・終結\n",
    "もし以下のポイントに従えば、`ry(pi/4)`の結果は$\\\\pi/4$ラジアン(45度)回転するものであることに留意すべきでしょう。\n",
    "その線のレベルはまた、マッチするように変化する。その他の方向の回転を除いて、`ry(-pi/4)`ゲートは同じであろう。\n",
    "おそらく気が付いているしょうが、`bloch`を使うことはそれぞれの量子ビットに2本の線を結びつけません。\n",
    "それは、全体の列を結びつけます。"
   ]
  },
  {
   "cell_type": "markdown",
   "metadata": {},
   "source": [
    "## パズル 2\n",
    "\n",
    "### イントロダクション・導入\n",
    "さあ、ほかの量子ビットでこれらのゲートを使いましょう。\n",
    "\n",
    "###  練習問題\n",
    "* 下の線を完全にオンにしましょう。 "
   ]
  },
  {
   "cell_type": "code",
   "execution_count": null,
   "metadata": {
    "scrolled": false
   },
   "outputs": [],
   "source": [
    "initialize = [['h','0'],['h','1']]\n",
    "success_condition = {'ZI': -1.0,'IZ': -1.0}\n",
    "allowed_gates = {'0': {'bloch':0, 'ry(pi/4)': 0, 'ry(-pi/4)': 0}, '1': {'bloch':0, 'ry(pi/4)': 0, 'ry(-pi/4)': 0}, 'both': {'unbloch':0}}\n",
    "vi = [[], True, True]\n",
    "qubit_names = {'0':'q[0]', '1':'q[1]'}\n",
    "puzzle = hello_quantum.run_game(initialize, success_condition, allowed_gates, vi, qubit_names, mode='line')"
   ]
  },
  {
   "cell_type": "code",
   "execution_count": null,
   "metadata": {},
   "outputs": [],
   "source": [
    "puzzle.get_circuit().draw(output='mpl')"
   ]
  },
  {
   "cell_type": "markdown",
   "metadata": {},
   "source": [
    "## パズル 3\n",
    "\n",
    "### イントロダクション・導入\n",
    "ここには単に`CX`、`CZ`やいくつかの`H`ゲートで解くことができるパズルがあります。不可解なことに、`CX`や`H`ゲートを持っていないとき、\n",
    "どのように`CZ`や`ry`をその機能で使うことができるかを働かせる必要があるでしょう。\n",
    "\n",
    "###  練習問題\n",
    "* Zの出力結果が一致するようにしましょう。"
   ]
  },
  {
   "cell_type": "code",
   "execution_count": null,
   "metadata": {},
   "outputs": [],
   "source": [
    "initialize = [['h','0']]\n",
    "success_condition = {'ZZ': 1.0}\n",
    "allowed_gates = {'0': {}, '1': {'bloch':0, 'ry(pi/4)': 0, 'ry(-pi/4)': 0}, 'both': {'unbloch':0,'cz':0}}\n",
    "vi = [[], True, True]\n",
    "qubit_names = {'0':'q[0]', '1':'q[1]'}\n",
    "puzzle = hello_quantum.run_game(initialize, success_condition, allowed_gates, vi, qubit_names, mode='line')"
   ]
  },
  {
   "cell_type": "code",
   "execution_count": null,
   "metadata": {},
   "outputs": [],
   "source": [
    "puzzle.get_circuit().draw(output='mpl')"
   ]
  },
  {
   "cell_type": "markdown",
   "metadata": {},
   "source": [
    "## パズル 4\n",
    "\n",
    "### イントロダクション・導入\n",
    "反対方向に動かすために、効果的に`ry`を_reflect_することができる`X`や`Z`を使いましょう。\n",
    "\n",
    "###  練習問題\n",
    "* Z出力を完全にオフにして、それぞれに 1 つの `ry(pi/4)` だけを配置します。"
   ]
  },
  {
   "cell_type": "code",
   "execution_count": null,
   "metadata": {},
   "outputs": [],
   "source": [
    "initialize = [['ry(pi/4)','0'],['ry(pi/4)','1']]\n",
    "success_condition = {'ZI': 1.0,'IZ': 1.0}\n",
    "allowed_gates = {'0': {'bloch':0, 'z':0, 'ry(pi/4)': 1}, '1': {'bloch':0, 'x':0, 'ry(pi/4)': 1}, 'both': {'unbloch':0}}\n",
    "vi = [[], True, True]\n",
    "qubit_names = {'0':'q[0]', '1':'q[1]'}\n",
    "puzzle = hello_quantum.run_game(initialize, success_condition, allowed_gates, vi, qubit_names, mode='line')"
   ]
  },
  {
   "cell_type": "code",
   "execution_count": null,
   "metadata": {},
   "outputs": [],
   "source": [
    "puzzle.get_circuit().draw(output='mpl')"
   ]
  },
  {
   "cell_type": "markdown",
   "metadata": {},
   "source": [
    "## パズル 5\n",
    "\n",
    "### イントロダクション・導入\n",
    "`ry`では、`CZ`や`CX`よりもより興味深い条件付きのゲートを作り出すことができます。\n",
    "例えば、制御された`H`ゲートを作り出すことができます。\n",
    "\n",
    "###  練習問題\n",
    "* その量子ビットで正確に１つだけ`ry(pi/4)`と`ry(-pi/4)`を使い、q[1]でZの出力結果をオフにしましょう。"
   ]
  },
  {
   "cell_type": "code",
   "execution_count": null,
   "metadata": {},
   "outputs": [],
   "source": [
    "initialize = [['x','0'],['h','1']]\n",
    "success_condition = {'IZ': 1.0}\n",
    "allowed_gates = {'0': {}, '1': {'bloch':0, 'cx':0, 'ry(pi/4)': 1, 'ry(-pi/4)': 1}, 'both': {'unbloch':0}}\n",
    "vi = [[], True, True]\n",
    "qubit_names = {'0':'q[0]', '1':'q[1]'}\n",
    "puzzle = hello_quantum.run_game(initialize, success_condition, allowed_gates, vi, qubit_names, mode='line')"
   ]
  },
  {
   "cell_type": "code",
   "execution_count": null,
   "metadata": {},
   "outputs": [],
   "source": [
    "puzzle.get_circuit().draw(output='mpl')"
   ]
  },
  {
   "cell_type": "markdown",
   "metadata": {},
   "source": [
    "# ボーナスレベル: Sandbox\n",
    "完全にパワフルな量子プログラムを構築するために、十分な基本的な量子ゲートを知っているでしょう。\n",
    "ファイナルレベルの状況を得るでしょう。しかしそれより以前は、ここはボーナスレベルの組でしょう。\n",
    "最初に、新しいスキルに挑戦するためのサンドボックス：全てのゲートが有効になっているゲートがあり、その付近で遊ぶことができます。\n",
    "ここに、クリフォードゲートではないゲートを助けるために、線を基本とした視覚化されたものがあります。"
   ]
  },
  {
   "cell_type": "code",
   "execution_count": null,
   "metadata": {},
   "outputs": [],
   "source": [
    "initialize = []\n",
    "success_condition = {'IZ': 1.0,'IX': 1.0}\n",
    "allowed_gates = {'0': {'bloch':0, 'x':0, 'z':0, 'h':0, 'cx':0, 'ry(pi/4)': 0, 'ry(-pi/4)': 0}, '1': {'bloch':0, 'x':0, 'z':0, 'h':0, 'cx':0, 'ry(pi/4)': 0, 'ry(-pi/4)': 0}, 'both': {'cz':0, 'unbloch':0}}\n",
    "vi = [[], True, True]\n",
    "qubit_names = {'0':'q[0]', '1':'q[1]'}\n",
    "line_sandbox = hello_quantum.run_game(initialize, success_condition, allowed_gates, vi, qubit_names, mode='line')"
   ]
  },
  {
   "cell_type": "code",
   "execution_count": null,
   "metadata": {},
   "outputs": [],
   "source": [
    "line_sandbox.get_circuit().draw(output='mpl')"
   ]
  },
  {
   "cell_type": "markdown",
   "metadata": {},
   "source": [
    "ここにはｙ測定の出力結果を記述する中間の線のグリッドがあります。\n",
    "これではクリフォードゲートではない新しいものをまた確かめることができます。：`rx(pi/4)` と`rx(-pi/4)`"
   ]
  },
  {
   "cell_type": "code",
   "execution_count": 2,
   "metadata": {},
   "outputs": [
    {
     "ename": "NameError",
     "evalue": "name 'hello_quantum' is not defined",
     "output_type": "error",
     "traceback": [
      "\u001b[1;31m---------------------------------------------------------------------------\u001b[0m",
      "\u001b[1;31mNameError\u001b[0m                                 Traceback (most recent call last)",
      "\u001b[1;32m<ipython-input-2-a1d02107fbca>\u001b[0m in \u001b[0;36m<module>\u001b[1;34m\u001b[0m\n\u001b[0;32m      4\u001b[0m \u001b[0mvi\u001b[0m \u001b[1;33m=\u001b[0m \u001b[1;33m[\u001b[0m\u001b[1;33m[\u001b[0m\u001b[1;33m]\u001b[0m\u001b[1;33m,\u001b[0m \u001b[1;32mTrue\u001b[0m\u001b[1;33m,\u001b[0m \u001b[1;32mTrue\u001b[0m\u001b[1;33m]\u001b[0m\u001b[1;33m\u001b[0m\u001b[1;33m\u001b[0m\u001b[0m\n\u001b[0;32m      5\u001b[0m \u001b[0mqubit_names\u001b[0m \u001b[1;33m=\u001b[0m \u001b[1;33m{\u001b[0m\u001b[1;34m'0'\u001b[0m\u001b[1;33m:\u001b[0m\u001b[1;34m'q[0]'\u001b[0m\u001b[1;33m,\u001b[0m \u001b[1;34m'1'\u001b[0m\u001b[1;33m:\u001b[0m\u001b[1;34m'q[1]'\u001b[0m\u001b[1;33m}\u001b[0m\u001b[1;33m\u001b[0m\u001b[1;33m\u001b[0m\u001b[0m\n\u001b[1;32m----> 6\u001b[1;33m \u001b[0my_sandbox\u001b[0m \u001b[1;33m=\u001b[0m \u001b[0mhello_quantum\u001b[0m\u001b[1;33m.\u001b[0m\u001b[0mrun_game\u001b[0m\u001b[1;33m(\u001b[0m\u001b[0minitialize\u001b[0m\u001b[1;33m,\u001b[0m \u001b[0msuccess_condition\u001b[0m\u001b[1;33m,\u001b[0m \u001b[0mallowed_gates\u001b[0m\u001b[1;33m,\u001b[0m \u001b[0mvi\u001b[0m\u001b[1;33m,\u001b[0m \u001b[0mqubit_names\u001b[0m\u001b[1;33m,\u001b[0m \u001b[0mmode\u001b[0m\u001b[1;33m=\u001b[0m\u001b[1;34m'y'\u001b[0m\u001b[1;33m)\u001b[0m\u001b[1;33m\u001b[0m\u001b[1;33m\u001b[0m\u001b[0m\n\u001b[0m",
      "\u001b[1;31mNameError\u001b[0m: name 'hello_quantum' is not defined"
     ]
    }
   ],
   "source": [
    "initialize = []\n",
    "success_condition = {'IZ': 1.0,'IX': 1.0}\n",
    "allowed_gates = {'0': {'x':0, 'z':0, 'h':0, 'cx':0, 'ry(pi/4)': 0, 'rx(pi/4)': 0, 'ry(-pi/4)': 0, 'rx(-pi/4)': 0}, '1': {'x':0, 'z':0, 'h':0, 'cx':0, 'ry(pi/4)': 0, 'rx(pi/4)': 0, 'ry(-pi/4)': 0, 'rx(-pi/4)': 0}, 'both': {'cz':0}}\n",
    "vi = [[], True, True]\n",
    "qubit_names = {'0':'q[0]', '1':'q[1]'}\n",
    "y_sandbox = hello_quantum.run_game(initialize, success_condition, allowed_gates, vi, qubit_names, mode='y')"
   ]
  },
  {
   "cell_type": "code",
   "execution_count": null,
   "metadata": {},
   "outputs": [],
   "source": [
    "y_sandbox.get_circuit().draw(output='mpl')"
   ]
  },
  {
   "cell_type": "markdown",
   "metadata": {},
   "source": [
    "# ボーナスレベル:自分でパズルをつくってみましょう。\n",
    "\n",
    "何問かのパズルを示すのと同様に、私たちは私たち自身でパズルを作り、共有する機会をもうけましょう。\n",
    "Quantum Experienceを使うことで、簡単にあなたのノートを完全にあなた自身のパズルにすることができます。\n",
    "'New Notebook'のボタン [参照ページ](https://quantum-computing.ibm.com/jupyter)をクリックすることにより始めてください。\n",
    "それから、importsのリストに以下の線を加えてください。\n",
    "```\n",
    "from qiskit_textbook.games import hello_quantum\n",
    "```\n",
    "\n",
    "これはパズルを作るためにあなたが必要なツールを示唆します。特に、あなたはそれ自身のcall・以下のフォームを使う`run_game`の機能を作り出す必要があります。\n",
    "```\n",
    "puzzle = hello_quantum.run_game(initialize, success_condition, allowed_gates, vi, qubit_names, mode=None)\n",
    "```\n",
    "\n",
    "これの全ての要素は以下で説明されます。\n",
    "\n",
    "`puzzle`\n",
    "* これはあなたが作ったパズルを構成するオブジェクトです。\n",
    "* プレイヤーによって作られたその量子サーキットは`puzzle.get_circuit()`を使いアクセスすることができます。\n",
    "\n",
    "`initialize`\n",
    "* 初期状態を準備するために、パズルが始まる前にあるゲートのリストが対応します。\n",
    "* これがもし空であれば、そのデフォルトの量子ビットの初期状態は使われています。そのZ出力結果が`0`であると決まっているでしょう。\n",
    "* `'0'`や`'1'`の量子ビットに対応する１つの量子ビットのゲートは`'x'`、`'y'`、 `'z'`、 `'h'` と `'ry(pi/4)'`です。\n",
    "* 2量子ビットは`'cz'`と`'cx'`を支援するでしょう。これらにとっては、たった１つターゲットの量子ビットです。\n",
    "* Example: `initialize = [['x', '0'],['cx', '1']]`.\n",
    "\n",
    "`success_condition`\n",
    "* パウリの排他的原理は成功（一致）を宣言するためのパズルのために得たものであると示唆します。\n",
    "* 以下のフォームで円の名前はその辞書のキーを表現されます。：\n",
    "    * `'ZI'`は左の量子ビットのZの出力結果とXの出力結果のための`'XI'`を示します。\n",
    "    * `'IZ'`と`'IX'`は単に右の量子ビットの結果です。\n",
    "    * `'ZX'`は左の量子ビットのZの出力結果と右のXの出力結果間の相関関係の円を示します。\n",
    "    * 上記以外にも様々です。\n",
    "    \n",
    "* 辞書の値はこれらの円がそのパズルを完全に解くことができたに違いないという値です。\n",
    "    * 黒の1.0 \n",
    "    * 白の-1.0 \n",
    "    * 灰色の0.0 \n",
    "    * 上記以外にも様々です。\n",
    "* その状態で含める必要のある円だけはリスト化される必要があります。\n",
    "* 例： `success_condition = {'IZ': 1.0}`.\n",
    "\n",
    "`allowed_gates`\n",
    "\n",
    "* それぞれの量子ビットでは、どの演算子がこのパズルに有効であるかを特定します。\n",
    "* `'cz'`と`'unbloch'`のように特定されるために必要がない演算子では、`'0'`か`'1'`の量子ビットの代わりに`'both'`の演算子をアサインします。\n",
    "* ゲートは整数型の値として辞書に表現します。\n",
    "    * 整数が0以外の場合は、パズルが完全に解けるようにするためにゲートを使用しなければならない正確な回数を指定します。\n",
    "    * それが0ならば、そのプレイヤーは何度もゲートを使うことができるでしょう。\n",
    " * 例: `allowed_gates = {'0': {'h':0}, '1': {'h':0}, 'both': {'cz': 1}}`.\n",
    "\n",
    "`vi`\n",
    "\n",
    "*\n",
    "3つの要素として可視化される情報があります。：`vi=[hidden,qubit,corr]`\n",
    "これらは以下のことを特定します。\n",
    "    * `hidden`: どの量子ビットが隠れているか（両方のリストが空になっていない）\n",
    "    * `qubit`:各ビットのために示されている両方の円かどうか（量子ビットパズルの`true`と量子ビットパズルの`False`を使います）\n",
    "    * `corr`: 円の相関（中間の４つの円）が示されているかどうか\n",
    "* Example: `vi = [[], True, True]`.\n",
    "\n",
    "`qubit_names`\n",
    "\n",
    "* 2量子ビットは内部的にいつも`'0'`または`'1'`と呼ばれています。しかし、プレイヤーによっては、異なった呼び方で示されるでしょう。\n",
    "* Example: `qubit_names = {'0':'qubit 0', '1':'qubit 1'}`\n",
    "\n",
    "`mode`\n",
    "\n",
    "* オプションの引数で、Y出力の行を含めるか、ラインベースの可視化を使用するかを選択できます。\n",
    "* `mode=None`を使うことや、モードの引数をまったく含まないことはデフォルトのモードを示します。\n",
    "* `mode='y'`はY出力の列を含みます。 \n",
    "* `mode='line'`はラインベースの視覚化を示します。\n",
    "\n",
    "ここに与えられた例によって定義されたパズルは以下のセルにより実行することができます。"
   ]
  },
  {
   "cell_type": "code",
   "execution_count": null,
   "metadata": {},
   "outputs": [],
   "source": [
    "initialize = [['x', '0'],['cx', '1']]\n",
    "success_condition = {'IZ': 1.0}\n",
    "allowed_gates = {'0': {'h':0}, '1': {'h':0}, 'both': {'cz': 1}}\n",
    "vi = [[], True, True]\n",
    "qubit_names = {'0':'qubit 0', '1':'qubit 1'}\n",
    "mode = None\n",
    "puzzle = hello_quantum.run_game(initialize, success_condition, allowed_gates, vi, qubit_names, mode=mode)"
   ]
  },
  {
   "cell_type": "markdown",
   "metadata": {},
   "source": [
    "彼らが目的を果たすべきことをプレイヤーに伝えていることを覚えているでしょう。\n",
    "このノートブックのパズルにとって、そのターゲットの状態はテキストに記述されています。\n",
    "しかし、以下のようにしてプレイヤーへのショートメッセージを含め、ターゲットの状態のイメージを代わりに作り出すことができます。\n",
    "再度これは上に提示された例のパラメーターを使います。"
   ]
  },
  {
   "cell_type": "code",
   "execution_count": null,
   "metadata": {},
   "outputs": [],
   "source": [
    "message = '\\nRules:\\n    Use exactly one cz gate.'\n",
    "grid = hello_quantum.pauli_grid(mode=mode)\n",
    "grid.update_grid(rho=success_condition, hidden=vi[0], qubit=vi[1], corr=vi[2], message=message)"
   ]
  },
  {
   "cell_type": "markdown",
   "metadata": {},
   "source": [
    "その一致する必要のある円だけが示されることに留意してください。\n",
    "ほかの人とあなたのパズルを共有するために、あなたが作ったノートブックをセーブして、彼らにそれを単純に送ってください。\n",
    "[IBM Quantum Experience](https://quantum-computing.ibm.com/jupyter)の'Import'ボタンを使い、Quantum Experienceを開くことによりそれをプレイすることができます。"
   ]
  },
  {
   "cell_type": "markdown",
   "metadata": {},
   "source": [
    "# レベル 5: 量子変数の一意性の証明"
   ]
  },
  {
   "cell_type": "markdown",
   "metadata": {},
   "source": [
    "## 古典変数のベルのテスト\n",
    "\n",
    "ここでは、どのように量子変数（量子ビットを元としたもの）が普通のもの（ビットを元としたもの）と異なるかを調べてみましょう。\n",
    "私たちは`A`と`B`という変数のペアを作り出すことによりこれを行うでしょう。\n",
    "私たちはこれらがとりうる状態や彼らが初期化する方法を表現しないでしょう。\n",
    "または、たくさんの可能性があります。\n",
    "\n",
    "* いくつかの変数を取るかもしれません。例えば以下の通りです。\n",
    "    * 整数型　\n",
    "    * リスト型\n",
    "    * 辞書型\n",
    "    * ...\n",
    "* いくつかのプロセスの種類により初期化されるでしょう。例えば、以下の通りです。\n",
    "    * 空の状態\n",
    "    * 値の集合を満たすもの\n",
    "    * ランダムなプロセスにより生み出されるもの\n",
    "        * 独立的に`A`と`B`に適用されるもの\n",
    "        * `A`と`B`を同時に適用し、それらのランダムさの相関で許可されるもの\n",
    "\n",
    "もしその変数がランダムなプロセスにより初期化される場合、彼らがプログラムが実行するときはいつも異なった値をとることを意味しています。\n",
    "これは完全に一致しています。私たちが従う必要のある１つのルールはランダムさを生み出すプロセスはすべての実行で同じであることです。\n",
    "私たちは、これらの変数をセットアップするために以下の関数を使います。\n",
    "これは、浮動小数点数のランダムな相関が部分的に定義される`A`と`B`を持ちます。\n",
    "しかし、あなたは欲しいものは何でもそれに変えることができます。"
   ]
  },
  {
   "cell_type": "code",
   "execution_count": null,
   "metadata": {},
   "outputs": [],
   "source": [
    "import random\n",
    "def setup_variables ():\n",
    "    \n",
    "    ### Replace this section with anything you want ###\n",
    "    \n",
    "    r = random.random()\n",
    "    \n",
    "    A = r*(2/3)\n",
    "    B = r*(1/3)\n",
    "    \n",
    "    ### End of section ###\n",
    "    \n",
    "    return A, B"
   ]
  },
  {
   "cell_type": "markdown",
   "metadata": {},
   "source": [
    "次の仕事は寄せ集めた関数を定義することです。\n",
    "これはただインプットとして変数のうちの1つをとる必要があり、結果としての値のビットをとります。\n",
    "\n",
    "この関数もまた、hashした2つの異なったタイプのものを行うことができるに違いない。\n",
    "また、変数を論議したり、異なった方法でビットを出すことができる必要があります。\n",
    "それ故、私たちはまた、関数に使いたいハッシュの種類を伝える必要があります。\n",
    "\n",
    "その問題の残りの首尾一貫性を整えるために、その２つの可能なハッシュのタイプは`H`と`V`と呼ばれるべきかもしれません。\n",
    "それもまた、結果はただ1ビットの文字列の型に違いない。：`'0'`か`'1'`のどちらかです。\n",
    "\n",
    "公平で任意の与えられた例から、そのビットは`A`と`B`を比較することにより任意の値へ生成されていました。\n",
    "その値以下であれば、その出力は`'1'`で、その値以上であれば、`'0'`である。\n",
    "そのhashの型は値の使い方を決定します。"
   ]
  },
  {
   "cell_type": "code",
   "execution_count": null,
   "metadata": {},
   "outputs": [],
   "source": [
    "def hash2bit ( variable, hash ):\n",
    "    \n",
    "    ### Replace this section with anything you want ###\n",
    "    \n",
    "    if hash=='V':\n",
    "        bit = (variable<0.5)\n",
    "    elif hash=='H':\n",
    "        bit = (variable<0.25)\n",
    "        \n",
    "    bit = str(int(bit)) # Turn True or False into '1' and '0'\n",
    "    \n",
    "    ### End of section ###\n",
    "        \n",
    "    return bit"
   ]
  },
  {
   "cell_type": "markdown",
   "metadata": {},
   "source": [
    "一度これらが定義されると、計測したい４つの量があります。： `P['HH']`、`P['HV']`、`P['VH']`、`P['VV']`\n",
    "\n",
    "`P['HV']` を例として焦点を当てましょう。\n",
    "これはそのビット値が可能性です。\n",
    "\n",
    "ビットの値が`H`タイプのhash値に由来します。\n",
    "\n",
    "This is the probability\n",
    "that the bit value derived from an `'H'` type hash on `A` is different to that from a `'V'` type has on `B`.\n",
    "We will estimate this probability by sampling many times and determining the fraction of samples for which the corresponding bit values disagree.\n",
    "\n",
    "The other probabilities are defined similarly: `P['HH']` compares a `'H'` type hash on both `A` and `B`, `P['VV']` compares a `V` type hash on both, and `P['VH']` compares a `V` type hash on `A` with a `H` type has on `B`.\n",
    "\n",
    "These probabilities are calculated in the following function, which returns all the values of `P` in a dictionary. The parameter `shots` is the number of samples we'll use."
   ]
  },
  {
   "cell_type": "code",
   "execution_count": null,
   "metadata": {},
   "outputs": [],
   "source": [
    "shots = 8192\n",
    "def calculate_P ( ):\n",
    "    \n",
    "    P = {}\n",
    "    for hashes in ['VV','VH','HV','HH']:\n",
    "        \n",
    "        # calculate each P[hashes] by sampling over `shots` samples\n",
    "        P[hashes] = 0\n",
    "        for shot in range(shots):\n",
    "\n",
    "            A, B = setup_variables()\n",
    "\n",
    "            a = hash2bit ( A, hashes[0] ) # hash type for variable `A` is the first character of `hashes`\n",
    "            b = hash2bit ( B, hashes[1] ) # hash type for variable `B` is the second character of `hashes`\n",
    "\n",
    "            P[hashes] += (a!=b) / shots\n",
    " \n",
    "    return P"
   ]
  },
  {
   "cell_type": "markdown",
   "metadata": {},
   "source": [
    "Now let's actually calculate these values for the method we have chosen to set up and hash the variables."
   ]
  },
  {
   "cell_type": "code",
   "execution_count": null,
   "metadata": {},
   "outputs": [],
   "source": [
    "P = calculate_P()\n",
    "print(P)"
   ]
  },
  {
   "cell_type": "markdown",
   "metadata": {},
   "source": [
    "These values will vary slightly from one run to the next due to the fact that we only use a finite number of shots. To change them significantly, we need to change the way the variables are initiated, and/or the way the hash functions are defined.\n",
    "\n",
    "No matter how these functions are defined, there are certain restrictions that the values of `P` will always obey.\n",
    "\n",
    "For example, consider the case that `P['HV']`, `P['VH']` and `P['VV']` are all `0.0`. The only way that this can be possible is for `P['HH']` to also be `0.0`.\n",
    "\n",
    "To see why, we start by noting that `P['HV']=0.0` is telling us that `hash2bit(A, H)` and `hash2bit(B, V)` were never different in any of the runs. So this means we can always expect them to be equal.\n",
    "\n",
    "    hash2bit(A, H) = hash2bit(B, V)        (1)\n",
    "    \n",
    "From `P['VV']=0.0` and `P['VH']=0.0` we can similarly get\n",
    "\n",
    "    hash2bit(A, V) = hash2bit(B, V)        (2)\n",
    "    \n",
    "    hash2bit(A, V) = hash2bit(B, H)        (3)\n",
    "    \n",
    "Putting (1) and (2) together implies that\n",
    "\n",
    "    hash2bit(A, H) = hash2bit(A, V)        (4)\n",
    "    \n",
    "Combining this with (3) gives\n",
    "\n",
    "    hash2bit(A, H) = hash2bit(B, H)        (5)\n",
    "\n",
    "And if these values are always equal, we'll never see a run in which they are different. This is exactly what we set out to prove: `P['HH']=0.0`.\n",
    "\n",
    "More generally, we can use the values of `P['HV']`, `P['VH']` and `P['VV']` to set an upper limit on what `P['HH']` can be. By adapting the [CHSH inequality](https://en.wikipedia.org/wiki/CHSH_inequality) we find that\n",
    "\n",
    "$\\,\\,\\,\\,\\,\\,\\,$ `P['HH']` $\\, \\leq \\,$ `P['HV'] + P['VH'] + P['VV']`\n",
    "\n",
    "This is not just a special property of `P['HH']`. It's also true for all the others: each of these probabilities cannot be greater than the sum of the others.\n",
    "\n",
    "To test whether this logic holds, we'll see how well the probabilities obey these inequalities. Note that we might get slight violations due to the fact that our the `P` values aren't exact, but are estimations made using a limited number of samples."
   ]
  },
  {
   "cell_type": "code",
   "execution_count": null,
   "metadata": {},
   "outputs": [],
   "source": [
    "def bell_test (P):\n",
    "    \n",
    "    sum_P = sum(P.values())\n",
    "    for hashes in P:\n",
    "        \n",
    "        bound = sum_P - P[hashes]\n",
    "        \n",
    "        print(\"The upper bound for P['\"+hashes+\"'] is \"+str(bound))\n",
    "        print(\"The value of P['\"+hashes+\"'] is \"+str(P[hashes]))\n",
    "        if P[hashes]<=bound:\n",
    "            print(\"The upper bound is obeyed :)\\n\")\n",
    "        else:\n",
    "            if P[hashes]-bound < 0.1:\n",
    "                print(\"This seems to have gone over the upper bound, but only by a little bit :S\\nProbably just rounding errors or statistical noise.\\n\")\n",
    "            else:\n",
    "                print(\"!!!!! This has gone well over the upper bound :O !!!!!\\n\")"
   ]
  },
  {
   "cell_type": "code",
   "execution_count": null,
   "metadata": {},
   "outputs": [],
   "source": [
    "bell_test(P)"
   ]
  },
  {
   "cell_type": "markdown",
   "metadata": {},
   "source": [
    "With the initialization and hash functions provided in this notebook, the value of `P('HV')` should be pretty much the same as the upper bound. Since the numbers are estimated statistically, and therefore are slightly approximate due to statistical noise, you might even see it go a tiny bit over. But you'll never see it significantly surpass the bound.\n",
    "\n",
    "If you don't believe me, try it for yourself. Change the way the variables are initialized, and how the hashes are calculated, and try to get one of the bounds to be significantly broken."
   ]
  },
  {
   "cell_type": "markdown",
   "metadata": {},
   "source": [
    "## Bell test for quantum variables\n",
    "\n",
    "Now we are going to do the same thing all over again, except our variables `A` and `B` will be quantum variables. Specifically, they'll be the simplest kind of quantum variable: qubits."
   ]
  },
  {
   "cell_type": "markdown",
   "metadata": {},
   "source": [
    "When writing quantum programs, we have to set up our qubits and bits before we can use them. This is done by the function below. It defines a register of two bits, and assigns them as our variables `A` and `B`. It then sets up a register of two bits to receive the outputs, and assigns them as `a` and `b`.\n",
    "\n",
    "Finally it uses these registers to set up an empty quantum program. This is called `qc`."
   ]
  },
  {
   "cell_type": "code",
   "execution_count": null,
   "metadata": {},
   "outputs": [],
   "source": [
    "from qiskit import QuantumRegister, ClassicalRegister, QuantumCircuit\n",
    "\n",
    "def initialize_program ():\n",
    "    \n",
    "    qubit = QuantumRegister(2)\n",
    "    A = qubit[0]\n",
    "    B = qubit[1]\n",
    "    \n",
    "    bit = ClassicalRegister(2)\n",
    "    a = bit[0]\n",
    "    b = bit[1]\n",
    "    \n",
    "    qc = QuantumCircuit(qubit, bit)\n",
    "    \n",
    "    return A, B, a, b, qc"
   ]
  },
  {
   "cell_type": "markdown",
   "metadata": {},
   "source": [
    "Before we start writing the quantum program to set up our variables, let's think about what needs to happen at the end of the program. This will be where we define the different hash functions, which turn our qubits into bits.\n",
    "\n",
    "The simplest way to extract a bit from a qubit is through the `measure` gate. This corresponds to the Z output of a qubit in the visualization we've been using. Let's use this as our `V` type hash.\n",
    "\n",
    "For the output that corresponds to the X output, there is no direct means of access. However, we can do it indirectly by first doing an `h` to swap the top and Z outputs, and then using the `measure` gate. This will be our `H` type hash.\n",
    "\n",
    "Note that this function has more inputs that its classical counterpart. We have to tell it the `bit` on which to write the result, and the quantum program, `qc`, on which we write the gates."
   ]
  },
  {
   "cell_type": "code",
   "execution_count": null,
   "metadata": {},
   "outputs": [],
   "source": [
    "def hash2bit  ( variable, hash, bit, qc ):\n",
    "    \n",
    "    if hash=='H':\n",
    "        qc.h( variable )\n",
    "        \n",
    "    qc.measure( variable, bit )"
   ]
  },
  {
   "cell_type": "markdown",
   "metadata": {},
   "source": [
    "Now its time to set up the variables `A` and `B`. To write this program, you can use the grid below. You can either follow the suggested 練習問題, or do whatever you like. Once you are ready, just move on. The cell containing the `setup_variables()` function, will then use the program you wrote with the grid.\n",
    "\n",
    "Note that our choice of means that the probabilities `P['HH']`, `P['HV']`, `P['VH']` and `P['VV']` will explicitly correspond to circles on our grid. For example, the circle at the very top tells us how likely the two X outputs would be to disagree. If this is white, then `P['HH']=1` , if it is black then `P['HH']=0`.\n",
    "\n",
    "### 練習問題\n",
    "* Make it so that the X outputs of both qubits are more likely to disagree, whereas all other combinations of outputs are more likely to agree."
   ]
  },
  {
   "cell_type": "code",
   "execution_count": null,
   "metadata": {
    "scrolled": false
   },
   "outputs": [],
   "source": [
    "initialize = []\n",
    "success_condition = {'ZZ':+0.7071,'ZX':+0.7071,'XZ':+0.7071,'XX':-0.7071}\n",
    "allowed_gates = {'0': {'bloch':0, 'x':0, 'z':0, 'h':0, 'cx':0, 'ry(pi/4)': 0, 'ry(-pi/4)': 0}, '1': {'bloch':0, 'x':0, 'z':0, 'h':0, 'cx':0, 'ry(pi/4)': 0, 'ry(-pi/4)': 0}, 'both': {'cz':0, 'unbloch':0}}\n",
    "vi = [[], True, True]\n",
    "qubit_names = {'0':'A', '1':'B'}\n",
    "puzzle = hello_quantum.run_game(initialize, success_condition, allowed_gates, vi, qubit_names, mode='line')"
   ]
  },
  {
   "cell_type": "markdown",
   "metadata": {},
   "source": [
    "Now the program as written above will be used to set up the quantum variables."
   ]
  },
  {
   "cell_type": "code",
   "execution_count": null,
   "metadata": {},
   "outputs": [],
   "source": [
    "import numpy as np\n",
    "def setup_variables ( A, B, qc ):\n",
    "    \n",
    "    for line in puzzle.program:\n",
    "        eval(line)"
   ]
  },
  {
   "cell_type": "markdown",
   "metadata": {},
   "source": [
    "The values of `P` are calculated in the function below. In this, as in the puzzles in the rest of this notebook, this is done by running the job using Qiskit and getting results which tell us how many of the samples gave each possible output. The output is given as a bit string, `string`, which Qiskit numbers from right to left. This means that the value of `a`, which corresponds to `bit[0]` is the first from the right\n",
    "\n",
    "    a = string[-1]\n",
    "    \n",
    "and the value of `b` is right next to it at the second from the right\n",
    "\n",
    "    b = string[-2]\n",
    "\n",
    "The number of samples for this bit string is provided by the dictionary of results, `stats`, as `stats[string]`."
   ]
  },
  {
   "cell_type": "code",
   "execution_count": null,
   "metadata": {},
   "outputs": [],
   "source": [
    "shots = 8192\n",
    "from qiskit import execute\n",
    "\n",
    "def calculate_P ( backend ):\n",
    "    \n",
    "    P = {}\n",
    "    program = {}\n",
    "    for hashes in ['VV','VH','HV','HH']:\n",
    "\n",
    "        A, B, a, b, program[hashes] = initialize_program ()\n",
    "\n",
    "        setup_variables( A, B, program[hashes] )\n",
    "\n",
    "        hash2bit ( A, hashes[0], a, program[hashes])\n",
    "        hash2bit ( B, hashes[1], b, program[hashes])\n",
    "            \n",
    "    # submit jobs\n",
    "    job = execute( list(program.values()), backend, shots=shots )\n",
    "\n",
    "    # get the results\n",
    "    for hashes in ['VV','VH','HV','HH']:\n",
    "        stats = job.result().get_counts(program[hashes])\n",
    "        \n",
    "        P[hashes] = 0\n",
    "        for string in stats.keys():\n",
    "            a = string[-1]\n",
    "            b = string[-2]\n",
    "            \n",
    "            if a!=b:\n",
    "                P[hashes] += stats[string] / shots\n",
    "\n",
    "    return P"
   ]
  },
  {
   "cell_type": "markdown",
   "metadata": {},
   "source": [
    "Now its time to choose and set up the actually device we are going to use. By default, we'll use a simulator. You could instead use a real cloud-based device by changing the backend accordingly."
   ]
  },
  {
   "cell_type": "code",
   "execution_count": null,
   "metadata": {},
   "outputs": [],
   "source": [
    "from qiskit import Aer\n",
    "device = 'qasm_simulator'\n",
    "backend = Aer.get_backend(device)"
   ]
  },
  {
   "cell_type": "code",
   "execution_count": null,
   "metadata": {},
   "outputs": [],
   "source": [
    "P = calculate_P( backend )\n",
    "print(P)"
   ]
  },
  {
   "cell_type": "code",
   "execution_count": null,
   "metadata": {},
   "outputs": [],
   "source": [
    "bell_test( P )"
   ]
  },
  {
   "cell_type": "markdown",
   "metadata": {
    "collapsed": true
   },
   "source": [
    "If you prepared the state suggestion by the 練習問題, you will have found a significant violation of the upper bound for `P['HH']`. So what is going on here? The chain of logic we based the Bell test on obviously doesn't apply to quantum variables. But why?\n",
    "\n",
    "The answer is that there is a hidden assumption in that logic. To see why, let's revisit point (4).\n",
    "\n",
    "    hash2bit ( A, H ) = hash2bit ( A, V )        (4)\n",
    "    \n",
    "Here we compare the value we'd get from an `H` type of hash of the variable `A` with that for a `V` type hash.\n",
    "\n",
    "For classical variables, this is perfectly sensible. There is nothing stopping us from calculating both hashes and comparing the results. Even if calculating the hash of a variable changes the variable, that's not a problem. All we need to do is copy it beforehand and we can do both hashes without any issue.\n",
    "\n",
    "The same is not true for quantum variables. The result of the hashes is not known until we actually do them. It's only then that the qubit actually decides what bit value to give. And once it decides the value for one type of hash, we can never determine what it would have decided if we had used another type of hash. We can't get around this by copying the quantum variables either, because quantum variables [cannot be copied](https://en.wikipedia.org/wiki/No-cloning_theorem). This means there is no context in which the values `hash2bit(A,H)` and `hash2bit(A,V)` are well-defined at the same time, and so it is impossible to compare them.\n",
    "\n",
    "Another hidden assumption is that `hash2bit(A,hash)` depends only on the type of hash chosen for variable `A`, and not the one chosen for variable `B`. This is also perfectly sensible, since this exactly the way we set up the `hash2bit()` function. However, the very fact that the upper bound was violated does seem to imply that each variable knows what hash is  being done to the other, so they they can conspire to give very different behaviour when both have a `H` type hash.\n",
    "\n",
    "Even so, we cannot say that our choice of hash on one qubit affects the outcome on the other. The effect is more subtle than that. For example, it is impossible to determine which variable is affecting which: You can change the order in which the hashes are done, or [effectively do them at the same time](https://en.wikipedia.org/wiki/Loopholes_in_Bell_test_experiments#Communication,_or_locality), and you'll get the same results. What we can say is that the results are [contextual](https://en.wikipedia.org/wiki/Quantum_contextuality): to fully understand results from one variable, it is sometimes required to look at what was done to another.\n",
    "\n",
    "All this goes to show that quantum variables don't always follow the logic we are used to. They follow different rules, the rules of quantum mechanics, which will allow us to find ways of performing computation in new and different ways."
   ]
  }
 ],
 "metadata": {
  "kernelspec": {
   "display_name": "Python 3",
   "language": "python",
   "name": "python3"
  },
  "language_info": {
   "codemirror_mode": {
    "name": "ipython",
    "version": 3
   },
   "file_extension": ".py",
   "mimetype": "text/x-python",
   "name": "python",
   "nbconvert_exporter": "python",
   "pygments_lexer": "ipython3",
   "version": "3.8.3"
  }
 },
 "nbformat": 4,
 "nbformat_minor": 2
}
